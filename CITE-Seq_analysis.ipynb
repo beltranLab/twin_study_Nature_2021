{
 "cells": [
  {
   "cell_type": "markdown",
   "id": "1daaeb7d-381b-42a5-863b-8a3382564653",
   "metadata": {},
   "source": [
    "# Twin study reveals non-heritable immune perturbations in multiple sclerosis\n",
    "# CITE-Seq analysis\n",
    "\n",
    "Reference:\n",
    " Ingelfinger F, Gerdes LA, Kavaka V, Krishnarajah S, Friebel E, Galli E, Zwicky P, Furrer R, Peukert C, Dutertre CA, Eglseer KM, Ginhoux F, Flierl-Hecht A, Kümpfel T, De Feo D, Schreiner B, Mundt S, Kerschensteiner M, Hohlfeld R, Beltrán E†, Becher B†. Twin study reveals non-heritable immune perturbations in multiple sclerosis. Nature (in press)\n",
    "\n",
    "Code authors:\n",
    " Vladyslav Kavaka, Florian Ingelfinger, Klara Magdalena Eglseer, Eduardo Beltrán"
   ]
  },
  {
   "cell_type": "code",
   "execution_count": null,
   "id": "44bb4541-cebc-4f84-9c50-1ddc2a6bfab3",
   "metadata": {
    "collapsed": true,
    "jupyter": {
     "outputs_hidden": true
    },
    "tags": []
   },
   "outputs": [],
   "source": [
    "library(devtools)\n",
    "library(Seurat)\n",
    "library(dplyr)\n",
    "library(Matrix)\n",
    "library(tidyr)\n",
    "library(limma)\n",
    "library(ggplot2)\n",
    "library(ggpubr)\n",
    "library(plyr)\n",
    "library(purrr)\n",
    "library(ggrepel)\n",
    "library(gprofiler2)\n",
    "library(scales)\n",
    "library(ggthemes)\n",
    "library(reshape2)\n",
    "library(rstatix)\n",
    "library(tibble)\n",
    "library(pheatmap)\n",
    "library(stringr)\n",
    "library(lmtest)\n",
    "library(patchwork)"
   ]
  },
  {
   "cell_type": "code",
   "execution_count": null,
   "id": "21ff5e1e-29b5-4990-8c12-4cf929688c13",
   "metadata": {
    "tags": []
   },
   "outputs": [],
   "source": [
    "options(repr.plot.width=11, repr.plot.height=11)"
   ]
  },
  {
   "cell_type": "markdown",
   "id": "c3e3fd76-bc74-43c4-9eb7-ae4f7e504b3d",
   "metadata": {},
   "source": [
    "# Read 10X data"
   ]
  },
  {
   "cell_type": "code",
   "execution_count": null,
   "id": "14ef00b0-56d2-4604-9a6b-38fca84da77d",
   "metadata": {
    "tags": []
   },
   "outputs": [],
   "source": [
    "## Read 10X data:\n",
    "matrix_dir = \"data/filtered_feature_bc_matrix/\"\n",
    "data <- Read10X(data.dir = matrix_dir)\n",
    "## Create Seurat object\n",
    "pbmc <- CreateSeuratObject (counts = data$'Gene Expression', min.cells = 3, min.features = 200, project = \"MS_TWIN_STUDY\")"
   ]
  },
  {
   "cell_type": "code",
   "execution_count": null,
   "id": "8783662f-8340-44a4-9ca5-368a6e1fbf65",
   "metadata": {
    "tags": []
   },
   "outputs": [],
   "source": [
    "# The number of features and UMIs (nFeature_RNA and nCount_RNA) are automatically calculated for every object by Seurat.\n",
    "# For non-UMI data, nCount_RNA represents the sum of the non-normalized values within a cell\n",
    "# We calculate the percentage of mitochondrial features here and store it in object metadata as `percent.mito`.\n",
    "# We use raw count data since this represents non-transformed and non-log-normalized counts\n",
    "# The % of UMI mapping to MT-features is a common scRNA-seq QC metric.\n",
    "mito.features <- grep(pattern = \"^MT-\", x = rownames(x = pbmc), value = TRUE)\n",
    "percent.mito <- Matrix::colSums(x = GetAssayData(object = pbmc, slot = 'counts')[mito.features, ]) / Matrix::colSums(x = GetAssayData(object = pbmc, slot = 'counts'))\n",
    "pbmc[['percent.mito']] <- percent.mito\n",
    "VlnPlot(object = pbmc, features = c(\"nFeature_RNA\", \"nCount_RNA\", \"percent.mito\"), ncol = 3, pt.size = 0.01)"
   ]
  },
  {
   "cell_type": "code",
   "execution_count": null,
   "id": "b0ae9310-accb-4a22-b1bc-82eba5ff45d4",
   "metadata": {
    "tags": []
   },
   "outputs": [],
   "source": [
    "# FeatureScatter is typically used to visualize feature-feature relationships, but can be used for anything \n",
    "# calculated by the object, i.e. columns in object metadata, PC scores etc.\n",
    "# Since there is a rare subset of cells with an outlier level of high mitochondrial percentage\n",
    "# and also low UMI content, we filter these as well\n",
    "FeatureScatter(object = pbmc, feature1 = \"nCount_RNA\", feature2 = \"percent.mito\")"
   ]
  },
  {
   "cell_type": "code",
   "execution_count": null,
   "id": "06d113ee-47b9-44bb-b596-44ad4802f2a0",
   "metadata": {
    "tags": []
   },
   "outputs": [],
   "source": [
    "FeatureScatter(object = pbmc, feature1 = \"nCount_RNA\", feature2 = \"nFeature_RNA\")"
   ]
  },
  {
   "cell_type": "code",
   "execution_count": null,
   "id": "296b26bc-b763-47bd-af06-6c4f531eca78",
   "metadata": {
    "tags": []
   },
   "outputs": [],
   "source": [
    "# We filter out cells that have unique feature counts over 6,000 or less than 500\n",
    "pbmc <- subset(x = pbmc, subset = nFeature_RNA > 500 & nFeature_RNA < 6000 & percent.mito < '0.15')"
   ]
  },
  {
   "cell_type": "markdown",
   "id": "5a73e528-0435-47bf-af25-5fb6b9b09204",
   "metadata": {},
   "source": [
    "## Create a column with sample numbers"
   ]
  },
  {
   "cell_type": "code",
   "execution_count": null,
   "id": "38d6bcfe-d7a5-49a1-9fce-527497f92bf5",
   "metadata": {
    "tags": []
   },
   "outputs": [],
   "source": [
    "# Get batches based on cell names\n",
    "samples_batches <- sapply(colnames(GetAssayData(object = pbmc, slot = \"counts\")),\n",
    "                      FUN=function(x){substr(x,18,19)})\n",
    "\n",
    "# Turn to numbers and add cell names to them\n",
    "samples_batches <- as.numeric(as.character(samples_batches))\n",
    "names(samples_batches) <- colnames(GetAssayData(object = pbmc, slot = \"counts\"))\n",
    "\n",
    "sample.effect <- samples_batches"
   ]
  },
  {
   "cell_type": "code",
   "execution_count": null,
   "id": "d1b8604a-3407-406b-b1ef-43cecc6b0ae7",
   "metadata": {
    "tags": []
   },
   "outputs": [],
   "source": [
    "pbmc <- AddMetaData(pbmc, sample.effect, \"sample.effect\")"
   ]
  },
  {
   "cell_type": "markdown",
   "id": "2228f242-2651-48b4-bba5-753989592c78",
   "metadata": {},
   "source": [
    "# Adding the sample information"
   ]
  },
  {
   "cell_type": "code",
   "execution_count": null,
   "id": "640b4af5-2f66-4a43-99f6-8cbc76f3436e",
   "metadata": {},
   "outputs": [],
   "source": [
    "samplenames <- read.csv(file = './sample_names.csv')\n",
    "#sort column - p5 = CD4+ cells, p8 = CD11b+ cells"
   ]
  },
  {
   "cell_type": "code",
   "execution_count": null,
   "id": "ff4cc47c-e707-4474-bc4d-832e26e1b3cd",
   "metadata": {},
   "outputs": [],
   "source": [
    "#add Sample, twin and sorting information into the meta.data\n",
    "for(i in 1:nrow(pbmc@meta.data)){\n",
    "    pbmc@meta.data$sample[i] <- filter(samplenames, Number == pbmc@meta.data$sample.effect[i])$Sample\n",
    "    pbmc@meta.data$twin[i] <- filter(samplenames, Number == pbmc@meta.data$sample.effect[i])$twin\n",
    "    pbmc@meta.data$sort[i] <- filter(samplenames, Number == pbmc@meta.data$sample.effect[i])$sort\n",
    "}"
   ]
  },
  {
   "cell_type": "markdown",
   "id": "67bb68d7-53b7-4470-b9f2-00f2a30e6397",
   "metadata": {},
   "source": [
    "# Normalize and find variable features"
   ]
  },
  {
   "cell_type": "code",
   "execution_count": null,
   "id": "6d2aa268-cf1f-4129-80c7-646ae376e3e5",
   "metadata": {
    "tags": []
   },
   "outputs": [],
   "source": [
    "pbmc <- NormalizeData(object = pbmc, normalization.method = \"LogNormalize\", scale.factor = 1e4)"
   ]
  },
  {
   "cell_type": "code",
   "execution_count": null,
   "id": "2b3b4b13-4d8d-461d-b8de-8890692dac26",
   "metadata": {
    "tags": []
   },
   "outputs": [],
   "source": [
    "pbmc <- FindVariableFeatures(pbmc, selection.method = \"vst\", nfeatures = 2000)\n",
    "length(x = VariableFeatures(object = pbmc))\n",
    "#remove TCR variable chains before running the PCA\n",
    "markers.remove <- grep(pattern = \"^TRAV|^TRBV|^TRGV|^TRDV\",  x = rownames(x = pbmc), value = TRUE)\n",
    "VariableFeatures(object = pbmc) <- VariableFeatures(object = pbmc)[!(VariableFeatures(object = pbmc)%in%markers.remove)]\n",
    "length(VariableFeatures(object = pbmc))"
   ]
  },
  {
   "cell_type": "markdown",
   "id": "83c5e336-e44e-467c-a3eb-9331803e2d60",
   "metadata": {},
   "source": [
    "# Scale and run PCA"
   ]
  },
  {
   "cell_type": "code",
   "execution_count": null,
   "id": "039a07a8-0ebd-4524-b698-7f6eb0fa73de",
   "metadata": {
    "tags": []
   },
   "outputs": [],
   "source": [
    "pbmc <- ScaleData(pbmc, features = VariableFeatures(pbmc))\n",
    "pbmc <- RunPCA(pbmc, features = VariableFeatures(object = pbmc))\n",
    "\n",
    "DimPlot(pbmc)"
   ]
  },
  {
   "cell_type": "code",
   "execution_count": null,
   "id": "153c0051-44b1-4259-9ccb-a68200692964",
   "metadata": {
    "tags": []
   },
   "outputs": [],
   "source": [
    "# ProjectDim scores each feature in the dataset (including features not included in the PCA) based on their correlation \n",
    "# with the calculated components. Though we don't use this further here, it can be used to identify markers that \n",
    "# are strongly correlated with cellular heterogeneity, but may not have passed through variable feature selection. \n",
    "# The results of the projected PCA can be explored by setting `projected = TRUE`in the functions above\n",
    "pbmc <- ProjectDim(object = pbmc)"
   ]
  },
  {
   "cell_type": "code",
   "execution_count": null,
   "id": "4eea8454-011d-425d-9bcb-2eee14e22a8a",
   "metadata": {
    "tags": []
   },
   "outputs": [],
   "source": [
    "#explore the Elbow and the PCA Heatmaps\n",
    "ElbowPlot(object = pbmc)\n",
    "for (i in 1:25){\n",
    "    print(DimHeatmap(object = pbmc, dims = i, cells = 500, balanced = TRUE))\n",
    "}"
   ]
  },
  {
   "cell_type": "markdown",
   "id": "a294532f-cf8a-406f-b509-1c3d139ed646",
   "metadata": {
    "tags": []
   },
   "source": [
    "# Cluster the cells"
   ]
  },
  {
   "cell_type": "code",
   "execution_count": null,
   "id": "a34ef026-8e35-4bc6-b266-e08e3865dab4",
   "metadata": {
    "tags": []
   },
   "outputs": [],
   "source": [
    "pbmc <- FindNeighbors(object = pbmc, dims = 1:9)\n",
    "pbmc <- FindClusters(object = pbmc, resolution = 0.5)"
   ]
  },
  {
   "cell_type": "markdown",
   "id": "afa2aba4-ad22-4f6a-904c-4579ec743039",
   "metadata": {},
   "source": [
    "## Run UMAP"
   ]
  },
  {
   "cell_type": "code",
   "execution_count": null,
   "id": "bc939656-e92b-4009-96bc-3a29491e3cae",
   "metadata": {
    "collapsed": true,
    "jupyter": {
     "outputs_hidden": true
    },
    "tags": []
   },
   "outputs": [],
   "source": [
    "pbmc <- RunUMAP(pbmc, dims = 1:9)"
   ]
  },
  {
   "cell_type": "code",
   "execution_count": null,
   "id": "cb07a1a4-1a32-486b-9744-f1125fc7ce32",
   "metadata": {
    "tags": []
   },
   "outputs": [],
   "source": [
    "#umap, dims 1:9, res. 0.5\n",
    "DimPlot(pbmc, reduction = 'umap', label = TRUE)\n",
    "DimPlot(pbmc, reduction = 'umap', label = TRUE, group.by = 'sample.effect')\n",
    "DimPlot(pbmc, reduction = 'umap', label = TRUE, group.by = 'twin')\n",
    "DimPlot(pbmc, reduction = 'umap', label = TRUE, group.by = 'sort')"
   ]
  },
  {
   "cell_type": "markdown",
   "id": "30196445-9e52-476c-9c3a-fc305a8c3255",
   "metadata": {},
   "source": [
    "# Adding Ab information"
   ]
  },
  {
   "cell_type": "code",
   "execution_count": null,
   "id": "b6b50baa-9fc9-4f6c-b1e6-06fd0ae0309c",
   "metadata": {},
   "outputs": [],
   "source": [
    "#rename the AB names\n",
    "rownames(data[[2]]) <- gsub('_TotalSeqC', '-Ab', x = rownames(data[[2]]))\n",
    "rownames(data[[2]]) <- gsub('_', '-', x = rownames(data[[2]]))\n",
    "rownames(data[[2]])\n",
    "Ab <- data[[2]]\n",
    "Ab <- Ab[, (colnames(Ab) %in% rownames(pbmc@meta.data))]"
   ]
  },
  {
   "cell_type": "code",
   "execution_count": null,
   "id": "cc350477-0e5b-4121-8978-b149e40a3a86",
   "metadata": {},
   "outputs": [],
   "source": [
    "#Create protein expression assay\n",
    "pbmc[[\"Ab\"]] <- CreateAssayObject(counts = Ab)\n",
    "\n",
    "#Normalize the Ab assay\n",
    "pbmc <- NormalizeData(object = pbmc, assay = \"Ab\", normalization.method = \"CLR\")\n",
    "pbmc <- ScaleData(pbmc, assay = \"Ab\")"
   ]
  },
  {
   "cell_type": "markdown",
   "id": "6c96f3e3-872f-4588-a782-39b663b09d8f",
   "metadata": {},
   "source": [
    "# Adding TCR information"
   ]
  },
  {
   "cell_type": "code",
   "execution_count": null,
   "id": "dfedf3e9-5fd0-4c86-b968-2f7c645297ee",
   "metadata": {},
   "outputs": [],
   "source": [
    "tcr_folder = 'tcr_data/TR_84_P5'"
   ]
  },
  {
   "cell_type": "code",
   "execution_count": null,
   "id": "cfb5cb05-1595-4737-836c-8e3df18805df",
   "metadata": {
    "tags": []
   },
   "outputs": [],
   "source": [
    "#First we need to create TCR file for sample 84\n",
    "tcr <- read.csv(paste(tcr_folder, '/outs/', \"filtered_contig_annotations.csv\", sep=\"\"))\n",
    "tcr <- with(tcr, tcr[order(chain, decreasing = TRUE), ]) # place TRB on top before removing duplicates\n",
    "tcr <- tcr[!duplicated(tcr$barcode), ]\n",
    "#choose the columns to keep\n",
    "tcr <- tcr[,c(\"barcode\", \"raw_clonotype_id\", \"chain\", 'v_gene')]\n",
    "names(tcr)[names(tcr) == \"raw_clonotype_id\"] <- \"clonotype_id\"\n",
    "#read clonotypes file\n",
    "clono <- read.csv(paste(tcr_folder, '/outs/', \"clonotypes.csv\", sep=\"\"))\n",
    "tcr <- merge(tcr, clono[, c(\"clonotype_id\", \"frequency\", \"cdr3s_aa\")])\n",
    "#Rename columns\n",
    "names(tcr)[1] <- \"TCR_clonotype_id\"\n",
    "names(tcr)[3] <- 'TCR_chain'\n",
    "names(tcr)[4] <- 'TCR_v_gene'\n",
    "names(tcr)[5] <- 'TCR_frequency'\n",
    "names(tcr)[6] <- 'TCR_cdr3'\n",
    "#reorder Columns\n",
    "tcr <- tcr[, c(2, 1, 3, 4, 5, 6)]\n",
    "#correct rownames\n",
    "rownames(tcr) <- tcr[,1]\n",
    "tcr[,1] <- NULL\n",
    "#Split cdr3 column:\n",
    "tcr <- separate(data = tcr, col = TCR_cdr3, into = c(\"TCR1\", \"TCR2\", \"TCR3\", \"TCR4\"), sep = \"\\\\;\")\n",
    "tcr[is.na(tcr)] <- \"FALSE\"\n",
    "\n",
    "head(tcr)\n",
    "tcr_84 <- tcr"
   ]
  },
  {
   "cell_type": "code",
   "execution_count": null,
   "id": "8bc00636-ace6-467c-bbd1-6d863ef5d0c6",
   "metadata": {},
   "outputs": [],
   "source": [
    "tcr_folder = 'tcr_data/TR_139'"
   ]
  },
  {
   "cell_type": "code",
   "execution_count": null,
   "id": "2531f4cd-b7b7-4960-8eb1-3b2f29c45736",
   "metadata": {
    "tags": []
   },
   "outputs": [],
   "source": [
    "#Create TCR file for sample 139\n",
    "tcr <- read.csv(paste(tcr_folder, '/outs/', \"filtered_contig_annotations.csv\", sep=\"\"))\n",
    "tcr$barcode <- gsub(\"-1\", paste('-', 3, sep = ''), tcr$barcode) \n",
    "tcr <- with(tcr, tcr[order(chain, decreasing = TRUE), ]) # place TRB on top before removing duplicates\n",
    "tcr <- tcr[!duplicated(tcr$barcode), ]\n",
    "#choose the columns to keep\n",
    "tcr <- tcr[,c(\"barcode\", \"raw_clonotype_id\", \"chain\", 'v_gene')]\n",
    "names(tcr)[names(tcr) == \"raw_clonotype_id\"] <- \"clonotype_id\"\n",
    "#read clonotypes file\n",
    "clono <- read.csv(paste(tcr_folder, '/outs/', \"clonotypes.csv\", sep=\"\"))\n",
    "tcr <- merge(tcr, clono[, c(\"clonotype_id\", \"frequency\", \"cdr3s_aa\")])\n",
    "#Rename columns\n",
    "names(tcr)[1] <- \"TCR_clonotype_id\"\n",
    "names(tcr)[3] <- 'TCR_chain'\n",
    "names(tcr)[4] <- 'TCR_v_gene'\n",
    "names(tcr)[5] <- 'TCR_frequency'\n",
    "names(tcr)[6] <- 'TCR_cdr3'\n",
    "#reorder Columns\n",
    "tcr <- tcr[, c(2, 1, 3, 4, 5, 6)]\n",
    "#correct rownames\n",
    "rownames(tcr) <- tcr[,1]\n",
    "tcr[,1] <- NULL\n",
    "#Split cdr3 column:\n",
    "tcr <- separate(data = tcr, col = TCR_cdr3, into = c(\"TCR1\", \"TCR2\", \"TCR3\", \"TCR4\"), sep = \"\\\\;\")\n",
    "tcr[is.na(tcr)] <- \"FALSE\"\n",
    "\n",
    "head(tcr)\n",
    "tcr_139 <- tcr"
   ]
  },
  {
   "cell_type": "code",
   "execution_count": null,
   "id": "6426d423-9f82-4a96-8f81-dc02a67ac2d3",
   "metadata": {},
   "outputs": [],
   "source": [
    "tcr_folder = 'tcr_data/TR_140_P5'"
   ]
  },
  {
   "cell_type": "code",
   "execution_count": null,
   "id": "f0f2ed00-cd8f-488d-8cd7-9d2cb9eccc64",
   "metadata": {
    "tags": []
   },
   "outputs": [],
   "source": [
    "#Create TCR file for sample 140\n",
    "tcr <- read.csv(paste(tcr_folder, '/outs/', \"filtered_contig_annotations.csv\", sep=\"\"))\n",
    "tcr$barcode <- gsub(\"-1\", paste('-', 4, sep = ''), tcr$barcode) \n",
    "tcr <- with(tcr, tcr[order(chain, decreasing = TRUE), ]) # place TRB on top before removing duplicates\n",
    "tcr <- tcr[!duplicated(tcr$barcode), ]\n",
    "#choose the columns to keep\n",
    "tcr <- tcr[,c(\"barcode\", \"raw_clonotype_id\", \"chain\", 'v_gene')]\n",
    "names(tcr)[names(tcr) == \"raw_clonotype_id\"] <- \"clonotype_id\"\n",
    "#read clonotypes file\n",
    "clono <- read.csv(paste(tcr_folder, '/outs/', \"clonotypes.csv\", sep=\"\"))\n",
    "tcr <- merge(tcr, clono[, c(\"clonotype_id\", \"frequency\", \"cdr3s_aa\")])\n",
    "#Rename columns\n",
    "names(tcr)[1] <- \"TCR_clonotype_id\"\n",
    "names(tcr)[3] <- 'TCR_chain'\n",
    "names(tcr)[4] <- 'TCR_v_gene'\n",
    "names(tcr)[5] <- 'TCR_frequency'\n",
    "names(tcr)[6] <- 'TCR_cdr3'\n",
    "#reorder Columns\n",
    "tcr <- tcr[, c(2, 1, 3, 4, 5, 6)]\n",
    "#correct rownames\n",
    "rownames(tcr) <- tcr[,1]\n",
    "tcr[,1] <- NULL\n",
    "#Split cdr3 column:\n",
    "tcr <- separate(data = tcr, col = TCR_cdr3, into = c(\"TCR1\", \"TCR2\", \"TCR3\", \"TCR4\"), sep = \"\\\\;\")\n",
    "tcr[is.na(tcr)] <- \"FALSE\"\n",
    "\n",
    "head(tcr)\n",
    "tcr_140 <- tcr"
   ]
  },
  {
   "cell_type": "code",
   "execution_count": null,
   "id": "812ef822-24d0-4b7f-b79d-46f460ba3097",
   "metadata": {},
   "outputs": [],
   "source": [
    "tcr_folder = 'tcr_data/TR_157_P5'"
   ]
  },
  {
   "cell_type": "code",
   "execution_count": null,
   "id": "79ff08c6-b592-4386-b231-2e6c45d519bd",
   "metadata": {
    "tags": []
   },
   "outputs": [],
   "source": [
    "#Create TCR file for sample 157\n",
    "tcr <- read.csv(paste(tcr_folder, '/outs/', \"filtered_contig_annotations.csv\", sep=\"\"))\n",
    "tcr$barcode <- gsub(\"-1\", paste('-', 6, sep = ''), tcr$barcode) \n",
    "tcr <- with(tcr, tcr[order(chain, decreasing = TRUE), ]) # place TRB on top before removing duplicates\n",
    "tcr <- tcr[!duplicated(tcr$barcode), ]\n",
    "#choose the columns to keep\n",
    "tcr <- tcr[,c(\"barcode\", \"raw_clonotype_id\", \"chain\", 'v_gene')]\n",
    "names(tcr)[names(tcr) == \"raw_clonotype_id\"] <- \"clonotype_id\"\n",
    "#read clonotypes file\n",
    "clono <- read.csv(paste(tcr_folder, '/outs/', \"clonotypes.csv\", sep=\"\"))\n",
    "tcr <- merge(tcr, clono[, c(\"clonotype_id\", \"frequency\", \"cdr3s_aa\")])\n",
    "#Rename columns\n",
    "names(tcr)[1] <- \"TCR_clonotype_id\"\n",
    "names(tcr)[3] <- 'TCR_chain'\n",
    "names(tcr)[4] <- 'TCR_v_gene'\n",
    "names(tcr)[5] <- 'TCR_frequency'\n",
    "names(tcr)[6] <- 'TCR_cdr3'\n",
    "#reorder Columns\n",
    "tcr <- tcr[, c(2, 1, 3, 4, 5, 6)]\n",
    "#correct rownames\n",
    "rownames(tcr) <- tcr[,1]\n",
    "tcr[,1] <- NULL\n",
    "#Split cdr3 column:\n",
    "tcr <- separate(data = tcr, col = TCR_cdr3, into = c(\"TCR1\", \"TCR2\", \"TCR3\", \"TCR4\"), sep = \"\\\\;\")\n",
    "tcr[is.na(tcr)] <- \"FALSE\"\n",
    "\n",
    "head(tcr)\n",
    "tcr_157 <- tcr"
   ]
  },
  {
   "cell_type": "code",
   "execution_count": null,
   "id": "47a3050c-5901-4692-9a88-958b010abba4",
   "metadata": {},
   "outputs": [],
   "source": [
    "tcr_folder = 'tcr_data/TR_158_P5'"
   ]
  },
  {
   "cell_type": "code",
   "execution_count": null,
   "id": "f830170d-1a80-4012-b2c5-b40393c59999",
   "metadata": {
    "tags": []
   },
   "outputs": [],
   "source": [
    "#Create TCR file for sample 158\n",
    "tcr <- read.csv(paste(tcr_folder, '/outs/', \"filtered_contig_annotations.csv\", sep=\"\"))\n",
    "tcr$barcode <- gsub(\"-1\", paste('-', 8, sep = ''), tcr$barcode) \n",
    "tcr <- with(tcr, tcr[order(chain, decreasing = TRUE), ]) # place TRB on top before removing duplicates\n",
    "tcr <- tcr[!duplicated(tcr$barcode), ]\n",
    "#choose the columns to keep\n",
    "tcr <- tcr[,c(\"barcode\", \"raw_clonotype_id\", \"chain\", 'v_gene')]\n",
    "names(tcr)[names(tcr) == \"raw_clonotype_id\"] <- \"clonotype_id\"\n",
    "#read clonotypes file\n",
    "clono <- read.csv(paste(tcr_folder, '/outs/', \"clonotypes.csv\", sep=\"\"))\n",
    "tcr <- merge(tcr, clono[, c(\"clonotype_id\", \"frequency\", \"cdr3s_aa\")])\n",
    "#Rename columns\n",
    "names(tcr)[1] <- \"TCR_clonotype_id\"\n",
    "names(tcr)[3] <- 'TCR_chain'\n",
    "names(tcr)[4] <- 'TCR_v_gene'\n",
    "names(tcr)[5] <- 'TCR_frequency'\n",
    "names(tcr)[6] <- 'TCR_cdr3'\n",
    "#reorder Columns\n",
    "tcr <- tcr[, c(2, 1, 3, 4, 5, 6)]\n",
    "#correct rownames\n",
    "rownames(tcr) <- tcr[,1]\n",
    "tcr[,1] <- NULL\n",
    "#Split cdr3 column:\n",
    "tcr <- separate(data = tcr, col = TCR_cdr3, into = c(\"TCR1\", \"TCR2\", \"TCR3\", \"TCR4\"), sep = \"\\\\;\")\n",
    "tcr[is.na(tcr)] <- \"FALSE\"\n",
    "\n",
    "head(tcr)\n",
    "tcr_158 <- tcr"
   ]
  },
  {
   "cell_type": "code",
   "execution_count": null,
   "id": "fe73732b-5c67-4ced-adee-324cb8bef569",
   "metadata": {},
   "outputs": [],
   "source": [
    "tcr_folder = 'tcr_data/TR_165_P5'"
   ]
  },
  {
   "cell_type": "code",
   "execution_count": null,
   "id": "2b2bdcfc-c48d-46d3-b876-eb44007f5f2e",
   "metadata": {
    "tags": []
   },
   "outputs": [],
   "source": [
    "#Create TCR file for sample 165\n",
    "tcr <- read.csv(paste(tcr_folder, '/outs/', \"filtered_contig_annotations.csv\", sep=\"\"))\n",
    "tcr$barcode <- gsub(\"-1\", paste('-', 10, sep = ''), tcr$barcode) \n",
    "tcr <- with(tcr, tcr[order(chain, decreasing = TRUE), ]) # place TRB on top before removing duplicates\n",
    "tcr <- tcr[!duplicated(tcr$barcode), ]\n",
    "#choose the columns to keep\n",
    "tcr <- tcr[,c(\"barcode\", \"raw_clonotype_id\", \"chain\", 'v_gene')]\n",
    "names(tcr)[names(tcr) == \"raw_clonotype_id\"] <- \"clonotype_id\"\n",
    "#read clonotypes file\n",
    "clono <- read.csv(paste(tcr_folder, '/outs/', \"clonotypes.csv\", sep=\"\"))\n",
    "tcr <- merge(tcr, clono[, c(\"clonotype_id\", \"frequency\", \"cdr3s_aa\")])\n",
    "#Rename columns\n",
    "names(tcr)[1] <- \"TCR_clonotype_id\"\n",
    "names(tcr)[3] <- 'TCR_chain'\n",
    "names(tcr)[4] <- 'TCR_v_gene'\n",
    "names(tcr)[5] <- 'TCR_frequency'\n",
    "names(tcr)[6] <- 'TCR_cdr3'\n",
    "#reorder Columns\n",
    "tcr <- tcr[, c(2, 1, 3, 4, 5, 6)]\n",
    "#correct rownames\n",
    "rownames(tcr) <- tcr[,1]\n",
    "tcr[,1] <- NULL\n",
    "#Split cdr3 column:\n",
    "tcr <- separate(data = tcr, col = TCR_cdr3, into = c(\"TCR1\", \"TCR2\", \"TCR3\", \"TCR4\"), sep = \"\\\\;\")\n",
    "tcr[is.na(tcr)] <- \"FALSE\"\n",
    "\n",
    "head(tcr)\n",
    "tcr_165 <- tcr"
   ]
  },
  {
   "cell_type": "code",
   "execution_count": null,
   "id": "8fd88cc8-b096-4b87-a268-745b6130115d",
   "metadata": {},
   "outputs": [],
   "source": [
    "tcr_folder = 'tcr_data/TR_166_P5'"
   ]
  },
  {
   "cell_type": "code",
   "execution_count": null,
   "id": "dd03d4ee-6151-4d15-b68a-2cf1e546b380",
   "metadata": {
    "tags": []
   },
   "outputs": [],
   "source": [
    "#Create TCR file for sample 166\n",
    "tcr <- read.csv(paste(tcr_folder, '/outs/', \"filtered_contig_annotations.csv\", sep=\"\"))\n",
    "tcr$barcode <- gsub(\"-1\", paste('-', 12, sep = ''), tcr$barcode) \n",
    "tcr <- with(tcr, tcr[order(chain, decreasing = TRUE), ]) # place TRB on top before removing duplicates\n",
    "tcr <- tcr[!duplicated(tcr$barcode), ]\n",
    "#choose the columns to keep\n",
    "tcr <- tcr[,c(\"barcode\", \"raw_clonotype_id\", \"chain\", 'v_gene')]\n",
    "names(tcr)[names(tcr) == \"raw_clonotype_id\"] <- \"clonotype_id\"\n",
    "#read clonotypes file\n",
    "clono <- read.csv(paste(tcr_folder, '/outs/', \"clonotypes.csv\", sep=\"\"))\n",
    "tcr <- merge(tcr, clono[, c(\"clonotype_id\", \"frequency\", \"cdr3s_aa\")])\n",
    "#Rename columns\n",
    "names(tcr)[1] <- \"TCR_clonotype_id\"\n",
    "names(tcr)[3] <- 'TCR_chain'\n",
    "names(tcr)[4] <- 'TCR_v_gene'\n",
    "names(tcr)[5] <- 'TCR_frequency'\n",
    "names(tcr)[6] <- 'TCR_cdr3'\n",
    "#reorder Columns\n",
    "tcr <- tcr[, c(2, 1, 3, 4, 5, 6)]\n",
    "#correct rownames\n",
    "rownames(tcr) <- tcr[,1]\n",
    "tcr[,1] <- NULL\n",
    "#Split cdr3 column:\n",
    "tcr <- separate(data = tcr, col = TCR_cdr3, into = c(\"TCR1\", \"TCR2\", \"TCR3\", \"TCR4\"), sep = \"\\\\;\")\n",
    "tcr[is.na(tcr)] <- \"FALSE\"\n",
    "\n",
    "head(tcr)\n",
    "tcr_166 <- tcr"
   ]
  },
  {
   "cell_type": "code",
   "execution_count": null,
   "id": "3e0f73e4-7d7b-41cc-b3f3-42eda4ba92c0",
   "metadata": {},
   "outputs": [],
   "source": [
    "tcr_folder = 'tcr_data/TR_182_P5'"
   ]
  },
  {
   "cell_type": "code",
   "execution_count": null,
   "id": "135d8510-6f93-4f59-a3a9-42889eeeb77f",
   "metadata": {
    "tags": []
   },
   "outputs": [],
   "source": [
    "#Create TCR file for sample 182\n",
    "tcr <- read.csv(paste(tcr_folder, '/outs/', \"filtered_contig_annotations.csv\", sep=\"\"))\n",
    "tcr$barcode <- gsub(\"-1\", paste('-', 14, sep = ''), tcr$barcode) \n",
    "tcr <- with(tcr, tcr[order(chain, decreasing = TRUE), ]) # place TRB on top before removing duplicates\n",
    "tcr <- tcr[!duplicated(tcr$barcode), ]\n",
    "#choose the columns to keep\n",
    "tcr <- tcr[,c(\"barcode\", \"raw_clonotype_id\", \"chain\", 'v_gene')]\n",
    "names(tcr)[names(tcr) == \"raw_clonotype_id\"] <- \"clonotype_id\"\n",
    "#read clonotypes file\n",
    "clono <- read.csv(paste(tcr_folder, '/outs/', \"clonotypes.csv\", sep=\"\"))\n",
    "tcr <- merge(tcr, clono[, c(\"clonotype_id\", \"frequency\", \"cdr3s_aa\")])\n",
    "#Rename columns\n",
    "names(tcr)[1] <- \"TCR_clonotype_id\"\n",
    "names(tcr)[3] <- 'TCR_chain'\n",
    "names(tcr)[4] <- 'TCR_v_gene'\n",
    "names(tcr)[5] <- 'TCR_frequency'\n",
    "names(tcr)[6] <- 'TCR_cdr3'\n",
    "#reorder Columns\n",
    "tcr <- tcr[, c(2, 1, 3, 4, 5, 6)]\n",
    "#correct rownames\n",
    "rownames(tcr) <- tcr[,1]\n",
    "tcr[,1] <- NULL\n",
    "#Split cdr3 column:\n",
    "tcr <- separate(data = tcr, col = TCR_cdr3, into = c(\"TCR1\", \"TCR2\", \"TCR3\", \"TCR4\"), sep = \"\\\\;\")\n",
    "tcr[is.na(tcr)] <- \"FALSE\"\n",
    "\n",
    "head(tcr)\n",
    "tcr_182 <- tcr"
   ]
  },
  {
   "cell_type": "code",
   "execution_count": null,
   "id": "1bfeb611-7a54-4bf4-913b-2b5a9562a6e9",
   "metadata": {},
   "outputs": [],
   "source": [
    "tcr_folder = 'tcr_data/TR_323_P5'"
   ]
  },
  {
   "cell_type": "code",
   "execution_count": null,
   "id": "4b13633c-be1f-4931-a0fa-6768667871d1",
   "metadata": {
    "tags": []
   },
   "outputs": [],
   "source": [
    "#Create TCR file for sample 323\n",
    "tcr <- read.csv(paste(tcr_folder, '/outs/', \"filtered_contig_annotations.csv\", sep=\"\"))\n",
    "tcr$barcode <- gsub(\"-1\", paste('-', 16, sep = ''), tcr$barcode) \n",
    "tcr <- with(tcr, tcr[order(chain, decreasing = TRUE), ]) # place TRB on top before removing duplicates\n",
    "tcr <- tcr[!duplicated(tcr$barcode), ]\n",
    "#choose the columns to keep\n",
    "tcr <- tcr[,c(\"barcode\", \"raw_clonotype_id\", \"chain\", 'v_gene')]\n",
    "names(tcr)[names(tcr) == \"raw_clonotype_id\"] <- \"clonotype_id\"\n",
    "#read clonotypes file\n",
    "clono <- read.csv(paste(tcr_folder, '/outs/', \"clonotypes.csv\", sep=\"\"))\n",
    "tcr <- merge(tcr, clono[, c(\"clonotype_id\", \"frequency\", \"cdr3s_aa\")])\n",
    "#Rename columns\n",
    "names(tcr)[1] <- \"TCR_clonotype_id\"\n",
    "names(tcr)[3] <- 'TCR_chain'\n",
    "names(tcr)[4] <- 'TCR_v_gene'\n",
    "names(tcr)[5] <- 'TCR_frequency'\n",
    "names(tcr)[6] <- 'TCR_cdr3'\n",
    "#reorder Columns\n",
    "tcr <- tcr[, c(2, 1, 3, 4, 5, 6)]\n",
    "#correct rownames\n",
    "rownames(tcr) <- tcr[,1]\n",
    "tcr[,1] <- NULL\n",
    "#Split cdr3 column:\n",
    "tcr <- separate(data = tcr, col = TCR_cdr3, into = c(\"TCR1\", \"TCR2\", \"TCR3\", \"TCR4\"), sep = \"\\\\;\")\n",
    "tcr[is.na(tcr)] <- \"FALSE\"\n",
    "\n",
    "head(tcr)\n",
    "tcr_323 <- tcr"
   ]
  },
  {
   "cell_type": "code",
   "execution_count": null,
   "id": "cc39cde9-142c-42ee-bd30-f8de0336070c",
   "metadata": {},
   "outputs": [],
   "source": [
    "tcr_folder = 'tcr_data/TR_324_P5'"
   ]
  },
  {
   "cell_type": "code",
   "execution_count": null,
   "id": "15b9edb4-6acc-49e3-85f5-dd06554f3009",
   "metadata": {
    "tags": []
   },
   "outputs": [],
   "source": [
    "#Create TCR file for sample 324\n",
    "tcr <- read.csv(paste(tcr_folder, '/outs/', \"filtered_contig_annotations.csv\", sep=\"\"))\n",
    "tcr$barcode <- gsub(\"-1\", paste('-', 18, sep = ''), tcr$barcode) \n",
    "tcr <- with(tcr, tcr[order(chain, decreasing = TRUE), ]) # place TRB on top before removing duplicates\n",
    "tcr <- tcr[!duplicated(tcr$barcode), ]\n",
    "#choose the columns to keep\n",
    "tcr <- tcr[,c(\"barcode\", \"raw_clonotype_id\", \"chain\", 'v_gene')]\n",
    "names(tcr)[names(tcr) == \"raw_clonotype_id\"] <- \"clonotype_id\"\n",
    "#read clonotypes file\n",
    "clono <- read.csv(paste(tcr_folder, '/outs/', \"clonotypes.csv\", sep=\"\"))\n",
    "tcr <- merge(tcr, clono[, c(\"clonotype_id\", \"frequency\", \"cdr3s_aa\")])\n",
    "#Rename columns\n",
    "names(tcr)[1] <- \"TCR_clonotype_id\"\n",
    "names(tcr)[3] <- 'TCR_chain'\n",
    "names(tcr)[4] <- 'TCR_v_gene'\n",
    "names(tcr)[5] <- 'TCR_frequency'\n",
    "names(tcr)[6] <- 'TCR_cdr3'\n",
    "#reorder Columns\n",
    "tcr <- tcr[, c(2, 1, 3, 4, 5, 6)]\n",
    "#correct rownames\n",
    "rownames(tcr) <- tcr[,1]\n",
    "tcr[,1] <- NULL\n",
    "#Split cdr3 column:\n",
    "tcr <- separate(data = tcr, col = TCR_cdr3, into = c(\"TCR1\", \"TCR2\", \"TCR3\", \"TCR4\"), sep = \"\\\\;\")\n",
    "tcr[is.na(tcr)] <- \"FALSE\"\n",
    "\n",
    "head(tcr)\n",
    "tcr_324 <- tcr"
   ]
  },
  {
   "cell_type": "code",
   "execution_count": null,
   "id": "d81f46b3-3b44-44a5-aba6-70cc13d539fc",
   "metadata": {},
   "outputs": [],
   "source": [
    "tcr_folder = 'tcr_data/TR_327_P5'"
   ]
  },
  {
   "cell_type": "code",
   "execution_count": null,
   "id": "3b9fa711-e19d-432f-a113-3879ca04e38c",
   "metadata": {
    "tags": []
   },
   "outputs": [],
   "source": [
    "#Create TCR file for sample 327\n",
    "tcr <- read.csv(paste(tcr_folder, '/outs/', \"filtered_contig_annotations.csv\", sep=\"\"))\n",
    "tcr$barcode <- gsub(\"-1\", paste('-', 20, sep = ''), tcr$barcode) \n",
    "tcr <- with(tcr, tcr[order(chain, decreasing = TRUE), ]) # place TRB on top before removing duplicates\n",
    "tcr <- tcr[!duplicated(tcr$barcode), ]\n",
    "#choose the columns to keep\n",
    "tcr <- tcr[,c(\"barcode\", \"raw_clonotype_id\", \"chain\", 'v_gene')]\n",
    "names(tcr)[names(tcr) == \"raw_clonotype_id\"] <- \"clonotype_id\"\n",
    "#read clonotypes file\n",
    "clono <- read.csv(paste(tcr_folder, '/outs/', \"clonotypes.csv\", sep=\"\"))\n",
    "tcr <- merge(tcr, clono[, c(\"clonotype_id\", \"frequency\", \"cdr3s_aa\")])\n",
    "#Rename columns\n",
    "names(tcr)[1] <- \"TCR_clonotype_id\"\n",
    "names(tcr)[3] <- 'TCR_chain'\n",
    "names(tcr)[4] <- 'TCR_v_gene'\n",
    "names(tcr)[5] <- 'TCR_frequency'\n",
    "names(tcr)[6] <- 'TCR_cdr3'\n",
    "#reorder Columns\n",
    "tcr <- tcr[, c(2, 1, 3, 4, 5, 6)]\n",
    "#correct rownames\n",
    "rownames(tcr) <- tcr[,1]\n",
    "tcr[,1] <- NULL\n",
    "#Split cdr3 column:\n",
    "tcr <- separate(data = tcr, col = TCR_cdr3, into = c(\"TCR1\", \"TCR2\", \"TCR3\", \"TCR4\"), sep = \"\\\\;\")\n",
    "tcr[is.na(tcr)] <- \"FALSE\"\n",
    "\n",
    "head(tcr)\n",
    "tcr_327 <- tcr"
   ]
  },
  {
   "cell_type": "code",
   "execution_count": null,
   "id": "fe3e3d89-36cf-4380-93cd-a970ee9e816d",
   "metadata": {},
   "outputs": [],
   "source": [
    "tcr_folder = 'tcr_data/TR_328_P5'"
   ]
  },
  {
   "cell_type": "code",
   "execution_count": null,
   "id": "8021fc81-eb83-4889-8792-ee1c0ff23e98",
   "metadata": {
    "tags": []
   },
   "outputs": [],
   "source": [
    "#Create TCR file for sample 328\n",
    "tcr <- read.csv(paste(tcr_folder, '/outs/', \"filtered_contig_annotations.csv\", sep=\"\"))\n",
    "tcr$barcode <- gsub(\"-1\", paste('-', 22, sep = ''), tcr$barcode) \n",
    "tcr <- with(tcr, tcr[order(chain, decreasing = TRUE), ]) # place TRB on top before removing duplicates\n",
    "tcr <- tcr[!duplicated(tcr$barcode), ]\n",
    "#choose the columns to keep\n",
    "tcr <- tcr[,c(\"barcode\", \"raw_clonotype_id\", \"chain\", 'v_gene')]\n",
    "names(tcr)[names(tcr) == \"raw_clonotype_id\"] <- \"clonotype_id\"\n",
    "#read clonotypes file\n",
    "clono <- read.csv(paste(tcr_folder, '/outs/', \"clonotypes.csv\", sep=\"\"))\n",
    "tcr <- merge(tcr, clono[, c(\"clonotype_id\", \"frequency\", \"cdr3s_aa\")])\n",
    "#Rename columns\n",
    "names(tcr)[1] <- \"TCR_clonotype_id\"\n",
    "names(tcr)[3] <- 'TCR_chain'\n",
    "names(tcr)[4] <- 'TCR_v_gene'\n",
    "names(tcr)[5] <- 'TCR_frequency'\n",
    "names(tcr)[6] <- 'TCR_cdr3'\n",
    "#reorder Columns\n",
    "tcr <- tcr[, c(2, 1, 3, 4, 5, 6)]\n",
    "#correct rownames\n",
    "rownames(tcr) <- tcr[,1]\n",
    "tcr[,1] <- NULL\n",
    "#Split cdr3 column:\n",
    "tcr <- separate(data = tcr, col = TCR_cdr3, into = c(\"TCR1\", \"TCR2\", \"TCR3\", \"TCR4\"), sep = \"\\\\;\")\n",
    "tcr[is.na(tcr)] <- \"FALSE\"\n",
    "\n",
    "head(tcr)\n",
    "tcr_328 <- tcr"
   ]
  },
  {
   "cell_type": "code",
   "execution_count": null,
   "id": "2b119110-e283-4e6d-b5b1-500c2a25cde9",
   "metadata": {},
   "outputs": [],
   "source": [
    "tcr_folder = 'tcr_data/TR_343_P5'"
   ]
  },
  {
   "cell_type": "code",
   "execution_count": null,
   "id": "e7104671-32d9-4991-9cc2-fa5cc9fa4a35",
   "metadata": {
    "tags": []
   },
   "outputs": [],
   "source": [
    "#Create TCR file for sample 343\n",
    "tcr <- read.csv(paste(tcr_folder, '/outs/', \"filtered_contig_annotations.csv\", sep=\"\"))\n",
    "tcr$barcode <- gsub(\"-1\", paste('-', 24, sep = ''), tcr$barcode) \n",
    "tcr <- with(tcr, tcr[order(chain, decreasing = TRUE), ]) # place TRB on top before removing duplicates\n",
    "tcr <- tcr[!duplicated(tcr$barcode), ]\n",
    "#choose the columns to keep\n",
    "tcr <- tcr[,c(\"barcode\", \"raw_clonotype_id\", \"chain\", 'v_gene')]\n",
    "names(tcr)[names(tcr) == \"raw_clonotype_id\"] <- \"clonotype_id\"\n",
    "#read clonotypes file\n",
    "clono <- read.csv(paste(tcr_folder, '/outs/', \"clonotypes.csv\", sep=\"\"))\n",
    "tcr <- merge(tcr, clono[, c(\"clonotype_id\", \"frequency\", \"cdr3s_aa\")])\n",
    "#Rename columns\n",
    "names(tcr)[1] <- \"TCR_clonotype_id\"\n",
    "names(tcr)[3] <- 'TCR_chain'\n",
    "names(tcr)[4] <- 'TCR_v_gene'\n",
    "names(tcr)[5] <- 'TCR_frequency'\n",
    "names(tcr)[6] <- 'TCR_cdr3'\n",
    "#reorder Columns\n",
    "tcr <- tcr[, c(2, 1, 3, 4, 5, 6)]\n",
    "#correct rownames\n",
    "rownames(tcr) <- tcr[,1]\n",
    "tcr[,1] <- NULL\n",
    "#Split cdr3 column:\n",
    "tcr <- separate(data = tcr, col = TCR_cdr3, into = c(\"TCR1\", \"TCR2\", \"TCR3\", \"TCR4\"), sep = \"\\\\;\")\n",
    "tcr[is.na(tcr)] <- \"FALSE\"\n",
    "\n",
    "head(tcr)\n",
    "tcr_343 <- tcr"
   ]
  },
  {
   "cell_type": "code",
   "execution_count": null,
   "id": "b3ff61eb-c2e8-4706-bbf4-70dfb4a16e39",
   "metadata": {},
   "outputs": [],
   "source": [
    "tcr_folder = 'tcr_data/TR_344_P5'"
   ]
  },
  {
   "cell_type": "code",
   "execution_count": null,
   "id": "ea7538c5-1618-45b6-8586-0f10f3bc5651",
   "metadata": {
    "tags": []
   },
   "outputs": [],
   "source": [
    "#Create TCR file for sample 344\n",
    "tcr <- read.csv(paste(tcr_folder, '/outs/', \"filtered_contig_annotations.csv\", sep=\"\"))\n",
    "tcr$barcode <- gsub(\"-1\", paste('-', 26, sep = ''), tcr$barcode) \n",
    "tcr <- with(tcr, tcr[order(chain, decreasing = TRUE), ]) # place TRB on top before removing duplicates\n",
    "tcr <- tcr[!duplicated(tcr$barcode), ]\n",
    "#choose the columns to keep\n",
    "tcr <- tcr[,c(\"barcode\", \"raw_clonotype_id\", \"chain\", 'v_gene')]\n",
    "names(tcr)[names(tcr) == \"raw_clonotype_id\"] <- \"clonotype_id\"\n",
    "#read clonotypes file\n",
    "clono <- read.csv(paste(tcr_folder, '/outs/', \"clonotypes.csv\", sep=\"\"))\n",
    "tcr <- merge(tcr, clono[, c(\"clonotype_id\", \"frequency\", \"cdr3s_aa\")])\n",
    "#Rename columns\n",
    "names(tcr)[1] <- \"TCR_clonotype_id\"\n",
    "names(tcr)[3] <- 'TCR_chain'\n",
    "names(tcr)[4] <- 'TCR_v_gene'\n",
    "names(tcr)[5] <- 'TCR_frequency'\n",
    "names(tcr)[6] <- 'TCR_cdr3'\n",
    "#reorder Columns\n",
    "tcr <- tcr[, c(2, 1, 3, 4, 5, 6)]\n",
    "#correct rownames\n",
    "rownames(tcr) <- tcr[,1]\n",
    "tcr[,1] <- NULL\n",
    "#Split cdr3 column:\n",
    "tcr <- separate(data = tcr, col = TCR_cdr3, into = c(\"TCR1\", \"TCR2\", \"TCR3\", \"TCR4\"), sep = \"\\\\;\")\n",
    "tcr[is.na(tcr)] <- \"FALSE\"\n",
    "\n",
    "head(tcr)\n",
    "tcr_344<- tcr"
   ]
  },
  {
   "cell_type": "code",
   "execution_count": null,
   "id": "9332d03f-0450-4922-9877-5b9ac8ac562a",
   "metadata": {},
   "outputs": [],
   "source": [
    "tcr_folder = 'tcr_data/TR_351_P5'"
   ]
  },
  {
   "cell_type": "code",
   "execution_count": null,
   "id": "8ff3e95d-85f1-457e-a219-23f00b2634c1",
   "metadata": {
    "tags": []
   },
   "outputs": [],
   "source": [
    "#Create TCR file for sample 351\n",
    "tcr <- read.csv(paste(tcr_folder, '/outs/', \"filtered_contig_annotations.csv\", sep=\"\"))\n",
    "tcr$barcode <- gsub(\"-1\", paste('-', 28, sep = ''), tcr$barcode) \n",
    "tcr <- with(tcr, tcr[order(chain, decreasing = TRUE), ]) # place TRB on top before removing duplicates\n",
    "tcr <- tcr[!duplicated(tcr$barcode), ]\n",
    "#choose the columns to keep\n",
    "tcr <- tcr[,c(\"barcode\", \"raw_clonotype_id\", \"chain\", 'v_gene')]\n",
    "names(tcr)[names(tcr) == \"raw_clonotype_id\"] <- \"clonotype_id\"\n",
    "#read clonotypes file\n",
    "clono <- read.csv(paste(tcr_folder, '/outs/', \"clonotypes.csv\", sep=\"\"))\n",
    "tcr <- merge(tcr, clono[, c(\"clonotype_id\", \"frequency\", \"cdr3s_aa\")])\n",
    "#Rename columns\n",
    "names(tcr)[1] <- \"TCR_clonotype_id\"\n",
    "names(tcr)[3] <- 'TCR_chain'\n",
    "names(tcr)[4] <- 'TCR_v_gene'\n",
    "names(tcr)[5] <- 'TCR_frequency'\n",
    "names(tcr)[6] <- 'TCR_cdr3'\n",
    "#reorder Columns\n",
    "tcr <- tcr[, c(2, 1, 3, 4, 5, 6)]\n",
    "#correct rownames\n",
    "rownames(tcr) <- tcr[,1]\n",
    "tcr[,1] <- NULL\n",
    "#Split cdr3 column:\n",
    "tcr <- separate(data = tcr, col = TCR_cdr3, into = c(\"TCR1\", \"TCR2\", \"TCR3\", \"TCR4\"), sep = \"\\\\;\")\n",
    "tcr[is.na(tcr)] <- \"FALSE\"\n",
    "\n",
    "head(tcr)\n",
    "tcr_351 <- tcr"
   ]
  },
  {
   "cell_type": "code",
   "execution_count": null,
   "id": "4c57389d-0dbc-449e-84df-ddd1d979ea3f",
   "metadata": {},
   "outputs": [],
   "source": [
    "tcr_folder = 'tcr_data/TR_352_P5'"
   ]
  },
  {
   "cell_type": "code",
   "execution_count": null,
   "id": "b798f8cd-455a-4d09-8789-a9a2e1c78ddd",
   "metadata": {
    "tags": []
   },
   "outputs": [],
   "source": [
    "#Create TCR file for sample 352\n",
    "tcr <- read.csv(paste(tcr_folder, '/outs/', \"filtered_contig_annotations.csv\", sep=\"\"))\n",
    "tcr$barcode <- gsub(\"-1\", paste('-', 30, sep = ''), tcr$barcode) \n",
    "tcr <- with(tcr, tcr[order(chain, decreasing = TRUE), ]) # place TRB on top before removing duplicates\n",
    "tcr <- tcr[!duplicated(tcr$barcode), ]\n",
    "#choose the columns to keep\n",
    "tcr <- tcr[,c(\"barcode\", \"raw_clonotype_id\", \"chain\", 'v_gene')]\n",
    "names(tcr)[names(tcr) == \"raw_clonotype_id\"] <- \"clonotype_id\"\n",
    "#read clonotypes file\n",
    "clono <- read.csv(paste(tcr_folder, '/outs/', \"clonotypes.csv\", sep=\"\"))\n",
    "tcr <- merge(tcr, clono[, c(\"clonotype_id\", \"frequency\", \"cdr3s_aa\")])\n",
    "#Rename columns\n",
    "names(tcr)[1] <- \"TCR_clonotype_id\"\n",
    "names(tcr)[3] <- 'TCR_chain'\n",
    "names(tcr)[4] <- 'TCR_v_gene'\n",
    "names(tcr)[5] <- 'TCR_frequency'\n",
    "names(tcr)[6] <- 'TCR_cdr3'\n",
    "#reorder Columns\n",
    "tcr <- tcr[, c(2, 1, 3, 4, 5, 6)]\n",
    "#correct rownames\n",
    "rownames(tcr) <- tcr[,1]\n",
    "tcr[,1] <- NULL\n",
    "#Split cdr3 column:\n",
    "tcr <- separate(data = tcr, col = TCR_cdr3, into = c(\"TCR1\", \"TCR2\", \"TCR3\", \"TCR4\"), sep = \"\\\\;\")\n",
    "tcr[is.na(tcr)] <- \"FALSE\"\n",
    "\n",
    "head(tcr)\n",
    "tcr_352 <- tcr"
   ]
  },
  {
   "cell_type": "code",
   "execution_count": null,
   "id": "df52e598-2879-4f3a-87a7-dcf440fd2a8a",
   "metadata": {},
   "outputs": [],
   "source": [
    "tcr_folder = 'tcr_data/TR_353_P5'"
   ]
  },
  {
   "cell_type": "code",
   "execution_count": null,
   "id": "12f342c3-c561-4d0b-8034-55f0b1740230",
   "metadata": {
    "tags": []
   },
   "outputs": [],
   "source": [
    "#Create TCR file for sample 353\n",
    "tcr <- read.csv(paste(tcr_folder, '/outs/', \"filtered_contig_annotations.csv\", sep=\"\"))\n",
    "tcr$barcode <- gsub(\"-1\", paste('-', 32, sep = ''), tcr$barcode) \n",
    "tcr <- with(tcr, tcr[order(chain, decreasing = TRUE), ]) # place TRB on top before removing duplicates\n",
    "tcr <- tcr[!duplicated(tcr$barcode), ]\n",
    "#choose the columns to keep\n",
    "tcr <- tcr[,c(\"barcode\", \"raw_clonotype_id\", \"chain\", 'v_gene')]\n",
    "names(tcr)[names(tcr) == \"raw_clonotype_id\"] <- \"clonotype_id\"\n",
    "#read clonotypes file\n",
    "clono <- read.csv(paste(tcr_folder, '/outs/', \"clonotypes.csv\", sep=\"\"))\n",
    "tcr <- merge(tcr, clono[, c(\"clonotype_id\", \"frequency\", \"cdr3s_aa\")])\n",
    "#Rename columns\n",
    "names(tcr)[1] <- \"TCR_clonotype_id\"\n",
    "names(tcr)[3] <- 'TCR_chain'\n",
    "names(tcr)[4] <- 'TCR_v_gene'\n",
    "names(tcr)[5] <- 'TCR_frequency'\n",
    "names(tcr)[6] <- 'TCR_cdr3'\n",
    "#reorder Columns\n",
    "tcr <- tcr[, c(2, 1, 3, 4, 5, 6)]\n",
    "#correct rownames\n",
    "rownames(tcr) <- tcr[,1]\n",
    "tcr[,1] <- NULL\n",
    "#Split cdr3 column:\n",
    "tcr <- separate(data = tcr, col = TCR_cdr3, into = c(\"TCR1\", \"TCR2\", \"TCR3\", \"TCR4\"), sep = \"\\\\;\")\n",
    "tcr[is.na(tcr)] <- \"FALSE\"\n",
    "\n",
    "head(tcr)\n",
    "tcr_353 <- tcr"
   ]
  },
  {
   "cell_type": "code",
   "execution_count": null,
   "id": "4ff0e293-8ef2-43b5-a447-481efdab6d67",
   "metadata": {},
   "outputs": [],
   "source": [
    "tcr_folder = 'tcr_data/TR_354_P5'"
   ]
  },
  {
   "cell_type": "code",
   "execution_count": null,
   "id": "463c4334-9704-4afa-9978-b7b5574b65b9",
   "metadata": {
    "tags": []
   },
   "outputs": [],
   "source": [
    "#Create TCR file for sample 354\n",
    "tcr <- read.csv(paste(tcr_folder, '/outs/', \"filtered_contig_annotations.csv\", sep=\"\"))\n",
    "tcr$barcode <- gsub(\"-1\", paste('-', 34, sep = ''), tcr$barcode) \n",
    "tcr <- with(tcr, tcr[order(chain, decreasing = TRUE), ]) # place TRB on top before removing duplicates\n",
    "tcr <- tcr[!duplicated(tcr$barcode), ]\n",
    "#choose the columns to keep\n",
    "tcr <- tcr[,c(\"barcode\", \"raw_clonotype_id\", \"chain\", 'v_gene')]\n",
    "names(tcr)[names(tcr) == \"raw_clonotype_id\"] <- \"clonotype_id\"\n",
    "#read clonotypes file\n",
    "clono <- read.csv(paste(tcr_folder, '/outs/', \"clonotypes.csv\", sep=\"\"))\n",
    "tcr <- merge(tcr, clono[, c(\"clonotype_id\", \"frequency\", \"cdr3s_aa\")])\n",
    "#Rename columns\n",
    "names(tcr)[1] <- \"TCR_clonotype_id\"\n",
    "names(tcr)[3] <- 'TCR_chain'\n",
    "names(tcr)[4] <- 'TCR_v_gene'\n",
    "names(tcr)[5] <- 'TCR_frequency'\n",
    "names(tcr)[6] <- 'TCR_cdr3'\n",
    "#reorder Columns\n",
    "tcr <- tcr[, c(2, 1, 3, 4, 5, 6)]\n",
    "#correct rownames\n",
    "rownames(tcr) <- tcr[,1]\n",
    "tcr[,1] <- NULL\n",
    "#Split cdr3 column:\n",
    "tcr <- separate(data = tcr, col = TCR_cdr3, into = c(\"TCR1\", \"TCR2\", \"TCR3\", \"TCR4\"), sep = \"\\\\;\")\n",
    "tcr[is.na(tcr)] <- \"FALSE\"\n",
    "\n",
    "head(tcr)\n",
    "tcr_354 <- tcr"
   ]
  },
  {
   "cell_type": "code",
   "execution_count": null,
   "id": "cc7da30f-f49d-4ab0-8f6e-455810f839c9",
   "metadata": {},
   "outputs": [],
   "source": [
    "#combine TCR data together\n",
    "tcr.combined <- rbind(tcr_84, tcr_139, tcr_140, tcr_157, tcr_158, tcr_165, tcr_166, tcr_182, tcr_323, tcr_324, tcr_327, tcr_328, tcr_343, tcr_344, tcr_351, tcr_352, tcr_353, tcr_354)"
   ]
  },
  {
   "cell_type": "code",
   "execution_count": null,
   "id": "b69761cd-cc31-41c4-8778-8477daa6b44d",
   "metadata": {
    "tags": []
   },
   "outputs": [],
   "source": [
    "#divide in TRA and TRB subset:\n",
    "for (k in 1:nrow(tcr.combined)){\n",
    "  if(startsWith(tcr.combined$TCR1[k], 'TRB:')){\n",
    "    tcr.combined$TCR1B[k] <- sub(pattern = '.*:', x = tcr.combined$TCR1[k], '')\n",
    "  } else {tcr.combined$TCR1B[k] <- 'FALSE'}\n",
    "    if(startsWith(tcr.combined$TCR1[k], 'TRA:')){\n",
    "    tcr.combined$TCR1A[k] <- sub(pattern = '.*:', x = tcr.combined$TCR1[k], '')\n",
    "  } else {tcr.combined$TCR1A[k] <- 'FALSE'}\n",
    "  \n",
    "  if(startsWith(tcr.combined$TCR2[k], 'TRB:')){\n",
    "    tcr.combined$TCR2B[k] <- sub(pattern = '.*:', x = tcr.combined$TCR2[k], '')\n",
    "  } else {tcr.combined$TCR2B[k] <- 'FALSE'}\n",
    "        if(startsWith(tcr.combined$TCR2[k], 'TRA:')){\n",
    "    tcr.combined$TCR2A[k] <- sub(pattern = '.*:', x = tcr.combined$TCR2[k], '')\n",
    "  } else {tcr.combined$TCR2A[k] <- 'FALSE'}\n",
    "  \n",
    "  if(startsWith(tcr.combined$TCR3[k], 'TRB:')){\n",
    "    tcr.combined$TCR3B[k] <- sub(pattern = '.*:', x = tcr.combined$TCR3[k], '')\n",
    "  } else {tcr.combined$TCR3B[k] <- 'FALSE'}\n",
    "     if(startsWith(tcr.combined$TCR3[k], 'TRA:')){\n",
    "    tcr.combined$TCR3A[k] <- sub(pattern = '.*:', x = tcr.combined$TCR3[k], '')\n",
    "  } else {tcr.combined$TCR3A[k] <- 'FALSE'}\n",
    "  \n",
    "  if(startsWith(tcr.combined$TCR4[k], 'TRB:')){\n",
    "    tcr.combined$TCR4B[k] <- sub(pattern = '.*:', x = tcr.combined$TCR4[k], '')\n",
    "  } else {tcr.combined$TCR4B[k] <- 'FALSE'}\n",
    "    if(startsWith(tcr.combined$TCR4[k], 'TRA:')){\n",
    "    tcr.combined$TCR4A[k] <- sub(pattern = '.*:', x = tcr.combined$TCR4[k], '')\n",
    "  } else {tcr.combined$TCR4A[k] <- 'FALSE'}\n",
    "}"
   ]
  },
  {
   "cell_type": "code",
   "execution_count": null,
   "id": "5ee38abb-cb7b-44c0-9220-670a654c5b4c",
   "metadata": {},
   "outputs": [],
   "source": [
    "#delete the columns after division in TRA and TRB\n",
    "tcr.combined$TCR1 <- NULL\n",
    "tcr.combined$TCR2 <- NULL\n",
    "tcr.combined$TCR3 <- NULL\n",
    "tcr.combined$TCR4 <- NULL"
   ]
  },
  {
   "cell_type": "code",
   "execution_count": null,
   "id": "72ffad4c-d7c0-4fa0-bdcd-2b453087e1bd",
   "metadata": {},
   "outputs": [],
   "source": [
    "#add the TCR into the meta.data and replace the NA with 'FALSE'\n",
    "pbmc <- AddMetaData(object = pbmc, metadata = tcr.combined)\n",
    "md = pbmc@meta.data # First, let's get the meta data\n",
    "i <- sapply(md, is.factor) # Identify all factor variables in your data\n",
    "md[i] <- lapply(md[i], as.character) # Convert factors to character variables\n",
    "md[is.na(md)] <- \"FALSE\" # Replace NA with \"FALSE\"\n",
    "md[i] <- lapply(md[i], as.factor) # Convert character columns back to factors\n",
    "pbmc@meta.data = md #Insert it back"
   ]
  },
  {
   "cell_type": "code",
   "execution_count": null,
   "id": "f2a43884-61a7-4b49-ab38-00370c690d17",
   "metadata": {
    "tags": []
   },
   "outputs": [],
   "source": [
    "DimPlot(pbmc, reduction = 'umap', label = TRUE)\n",
    "DimPlot(pbmc, reduction = 'umap', group.by = 'TCR_frequency', label = TRUE) + NoLegend()\n",
    "DimPlot(pbmc, reduction = 'umap', group.by = 'TCR_chain', label = TRUE)"
   ]
  },
  {
   "cell_type": "markdown",
   "id": "216f32ff-edca-44f3-9319-c2f1fe86e7df",
   "metadata": {},
   "source": [
    "# Subset the T cells, clustering and integration "
   ]
  },
  {
   "cell_type": "code",
   "execution_count": null,
   "id": "12c4b42d-81f5-4b73-a76a-ee7685b72e7a",
   "metadata": {},
   "outputs": [],
   "source": [
    "DefaultAssay(pbmc) <- 'RNA'\n",
    "Idents(pbmc) <- 'sort'\n",
    "#subset the T cells by subsetting P5 sort (CD4 + Cells)\n",
    "tcells <- subset(pbmc, idents = 'p5')\n",
    "tcells"
   ]
  },
  {
   "cell_type": "code",
   "execution_count": null,
   "id": "76072de4-b61f-4032-8265-f72a2c6fdc2a",
   "metadata": {},
   "outputs": [],
   "source": [
    "#subset only the ones with the TCR information\n",
    "Idents(tcells) <- 'TCR_chain'\n",
    "tcells <- subset(tcells, idents = 'FALSE', invert = TRUE)\n",
    "tcells"
   ]
  },
  {
   "cell_type": "code",
   "execution_count": null,
   "id": "0fba7ff2-33cc-454c-86ce-a3291ba5493c",
   "metadata": {},
   "outputs": [],
   "source": [
    "#find variable features \n",
    "tcells <- FindVariableFeatures(tcells, selection.method = \"vst\", nfeatures = 2000)\n",
    "length(x = VariableFeatures(object = tcells))\n",
    "#remove the TCR variable chain genes before reclustering\n",
    "markers.remove <- grep(pattern = \"^TRAV|^TRBV|^TRGV|^TRDV\",  x = rownames(x = tcells), value = TRUE)\n",
    "VariableFeatures(object = tcells) <- VariableFeatures(object = tcells)[!(VariableFeatures(object = tcells)%in%markers.remove)]\n",
    "length(VariableFeatures(object = tcells))"
   ]
  },
  {
   "cell_type": "code",
   "execution_count": null,
   "id": "63a1932e-e94a-46e3-86e8-fcff4987298c",
   "metadata": {},
   "outputs": [],
   "source": [
    "#scale data, run PCA\n",
    "tcells <- ScaleData(tcells, features = VariableFeatures(object = tcells), vars.to.regress = c(\"nCount_RNA\", \"percent.mito\"))\n",
    "tcells <- RunPCA(tcells, features = VariableFeatures(object = tcells))"
   ]
  },
  {
   "cell_type": "code",
   "execution_count": null,
   "id": "44745f21-ac40-4ab7-866f-789f28c8529c",
   "metadata": {
    "collapsed": true,
    "jupyter": {
     "outputs_hidden": true
    },
    "tags": []
   },
   "outputs": [],
   "source": [
    "#explore the Elbow and the PCA Heatmaps\n",
    "ElbowPlot(object = tcells)\n",
    "for (i in 1:25){\n",
    "    print(DimHeatmap(object = tcells, dims = i, cells = 500, balanced = TRUE))\n",
    "}"
   ]
  },
  {
   "cell_type": "markdown",
   "id": "cc8645c7-f3fb-4f04-af08-333f498d2b57",
   "metadata": {},
   "source": [
    "## Cluster the cells"
   ]
  },
  {
   "cell_type": "code",
   "execution_count": null,
   "id": "7978c534-e73b-4945-828b-3bbea5c31776",
   "metadata": {},
   "outputs": [],
   "source": [
    "tcells <- FindNeighbors(object = tcells, dims = 1:21)"
   ]
  },
  {
   "cell_type": "code",
   "execution_count": null,
   "id": "7251878f-061d-4549-bf40-f094937d1f18",
   "metadata": {},
   "outputs": [],
   "source": [
    "tcells <- FindClusters(object = tcells, resolution = 0.6)"
   ]
  },
  {
   "cell_type": "markdown",
   "id": "0049762a-7b12-448d-874f-7bc0ca97cf87",
   "metadata": {},
   "source": [
    "## Run UMAP"
   ]
  },
  {
   "cell_type": "code",
   "execution_count": null,
   "id": "8cd88293-c60d-4f84-8d65-8612368482e9",
   "metadata": {
    "tags": []
   },
   "outputs": [],
   "source": [
    "tcells <- RunUMAP(tcells, dims = 1:21)"
   ]
  },
  {
   "cell_type": "code",
   "execution_count": null,
   "id": "ef060da4-c2be-4277-9383-b3b9231fa04f",
   "metadata": {
    "tags": []
   },
   "outputs": [],
   "source": [
    "#vst, umap, dims 21, res. 0.6\n",
    "DimPlot(tcells, reduction = 'umap', label = TRUE)\n",
    "DimPlot(tcells, reduction = 'umap', label = TRUE, group.by = 'sample')\n",
    "DimPlot(tcells, reduction = 'umap', label = TRUE, group.by = 'TCR_frequency')"
   ]
  },
  {
   "cell_type": "markdown",
   "id": "34f8042c-9e6b-4932-a56c-27ccbc7d3f7d",
   "metadata": {},
   "source": [
    "## Cluster markers"
   ]
  },
  {
   "cell_type": "code",
   "execution_count": null,
   "id": "43122d04-90c0-461d-82bc-517a79c200c6",
   "metadata": {},
   "outputs": [],
   "source": [
    "DefaultAssay(tcells) <- 'RNA'"
   ]
  },
  {
   "cell_type": "code",
   "execution_count": null,
   "id": "39744d0b-3f47-4134-a9cf-3e788f32fd02",
   "metadata": {
    "tags": []
   },
   "outputs": [],
   "source": [
    "featurestcells <- rownames(tcells)\n",
    "markers.remove <- grep(pattern = \"^TRAV|^TRBV|^TRGV|^TRDV\", x = rownames(tcells), value = TRUE)\n",
    "featurestcells <- featurestcells[!(featurestcells%in%markers.remove)]\n",
    "tcells.markers1 <- FindAllMarkers(object = tcells, only.pos = TRUE, min.pct = 0.25, logfc.threshold = 0.25, features = featurestcells)"
   ]
  },
  {
   "cell_type": "code",
   "execution_count": null,
   "id": "16af7908-6f3f-47a8-ab27-bcc7c1ced26e",
   "metadata": {
    "tags": []
   },
   "outputs": [],
   "source": [
    "#sort top 30 first markers per cluster\n",
    "tcells.markers1_sorted <- c()\n",
    "for (i in 1:length(levels(tcells.markers1$cluster))){\n",
    "    tcells.markers1_level <- filter(tcells.markers1, cluster == levels(tcells.markers1$cluster)[i])\n",
    "    tcells.markers1_level <- tcells.markers1_level[order(-tcells.markers1_level$avg_log2FC), ]\n",
    "    tcells.markers1_level <- tcells.markers1_level[1:30, ]\n",
    "    tcells.markers1_level <- tcells.markers1_level[!is.na(tcells.markers1_level$avg_log2FC), ]\n",
    "    tcells.markers1_sorted <- rbind(tcells.markers1_sorted, tcells.markers1_level)\n",
    "    }\n",
    "tcells.markers1_sorted_top30 <- tcells.markers1_sorted\n",
    "write.csv(tcells.markers1_sorted_top30, file = './tcells_top30_first.csv')"
   ]
  },
  {
   "cell_type": "code",
   "execution_count": null,
   "id": "dde695ad-9b3d-4079-804b-130f6716c4b0",
   "metadata": {
    "tags": []
   },
   "outputs": [],
   "source": [
    "#compute the average expression for heatmaps\n",
    "cluster.averages_tcells <- AverageExpression(tcells, assay = \"RNA\", return.seurat = TRUE) # , verbose = FALSE)"
   ]
  },
  {
   "cell_type": "code",
   "execution_count": null,
   "id": "db4ce4e1-9cbe-421c-9817-7e3c4f21e39c",
   "metadata": {
    "tags": []
   },
   "outputs": [],
   "source": [
    "#sort top5 first markers per cluster\n",
    "tcells.markers1_sorted <- c()\n",
    "for (i in 1:length(levels(tcells.markers1$cluster))){\n",
    "    tcells.markers1_level <- filter(tcells.markers1, cluster == levels(tcells.markers1$cluster)[i])\n",
    "    tcells.markers1_level <- tcells.markers1_level[order(-tcells.markers1_level$avg_log2FC), ]\n",
    "    tcells.markers1_level <- tcells.markers1_level[1:5, ]\n",
    "    tcells.markers1_level <- tcells.markers1_level[!is.na(tcells.markers1_level$avg_log2FC), ]\n",
    "    tcells.markers1_sorted <- rbind(tcells.markers1_sorted, tcells.markers1_level)\n",
    "    }\n",
    "tcells.markers1_sorted_top5 <- tcells.markers1_sorted"
   ]
  },
  {
   "cell_type": "code",
   "execution_count": null,
   "id": "a0bb6a50-7dc5-490d-afe2-ca99da0856cd",
   "metadata": {},
   "outputs": [],
   "source": [
    "#plot top5 markers per cluster in heatmap\n",
    "DoHeatmap(cluster.averages_tcells, features = tcells.markers1_sorted_top5$gene)+ theme(text = element_text(size = 20, face = \"bold\"))\n",
    "#plot the nfeatures per cell in VlnPlot (helpuf for sorting out low quality cells)\n",
    "VlnPlot(tcells, features = 'nFeature_RNA', pt.size = 0.01)"
   ]
  },
  {
   "cell_type": "markdown",
   "id": "7df13016-68c3-498f-93f5-2b88a5b27b9d",
   "metadata": {},
   "source": [
    "## Subset out the low quality cells and contamination, second round of reclustering:"
   ]
  },
  {
   "cell_type": "code",
   "execution_count": null,
   "id": "6b0b902c-40a0-4b39-86cb-0f540ac8719a",
   "metadata": {},
   "outputs": [],
   "source": [
    "#clusters 7 and 10 are contaminated and low quality clusters. Subset them out\n",
    "write.csv(filter(tcells@meta.data, seurat_clusters == 7 | seurat_clusters == 10), file = './lowquality_contamination_cd4.csv')\n",
    "tcells <- subset(tcells, idents = c(7, 10), invert = TRUE)\n",
    "tcells"
   ]
  },
  {
   "cell_type": "code",
   "execution_count": null,
   "id": "997fb746-947e-4c1e-be29-d9073e03eee0",
   "metadata": {},
   "outputs": [],
   "source": [
    "#find variable features\n",
    "tcells <- FindVariableFeatures(tcells, selection.method = \"vst\", nfeatures = 1500)\n",
    "length(x = VariableFeatures(object = tcells))\n",
    "markers.remove <- grep(pattern = \"^TRAV|^TRBV|^TRGV|^TRDV\",  x = rownames(x = tcells), value = TRUE)\n",
    "VariableFeatures(object = tcells) <- VariableFeatures(object = tcells)[!(VariableFeatures(object = tcells)%in%markers.remove)]\n",
    "length(VariableFeatures(object = tcells))"
   ]
  },
  {
   "cell_type": "code",
   "execution_count": null,
   "id": "2d238ac5-8c79-40db-a325-a9ae4daddbb3",
   "metadata": {},
   "outputs": [],
   "source": [
    "tcells <- ScaleData(tcells, features = VariableFeatures(object = tcells), vars.to.regress = c(\"nCount_RNA\", \"percent.mito\"))\n",
    "tcells <- RunPCA(tcells, features = VariableFeatures(object = tcells))"
   ]
  },
  {
   "cell_type": "code",
   "execution_count": null,
   "id": "9d5268f0-cbe9-45cd-8cb6-536fb17fbb8d",
   "metadata": {
    "collapsed": true,
    "jupyter": {
     "outputs_hidden": true
    },
    "tags": []
   },
   "outputs": [],
   "source": [
    "#explore the Elbow and the PCA Heatmaps\n",
    "ElbowPlot(object = tcells)\n",
    "for (i in 1:25){\n",
    "    print(DimHeatmap(object = tcells, dims = i, cells = 500, balanced = TRUE))\n",
    "}"
   ]
  },
  {
   "cell_type": "markdown",
   "id": "2e790b24-1a58-475d-aee9-7635144003b9",
   "metadata": {},
   "source": [
    "## Cluster the cells"
   ]
  },
  {
   "cell_type": "code",
   "execution_count": null,
   "id": "5dd5f115-553d-488e-87e0-2863eb53e151",
   "metadata": {},
   "outputs": [],
   "source": [
    "tcells <- FindNeighbors(object = tcells, dims = 1:20)"
   ]
  },
  {
   "cell_type": "code",
   "execution_count": null,
   "id": "3fc89a67-3d5a-4aa1-bb87-80b7f8bd0cff",
   "metadata": {},
   "outputs": [],
   "source": [
    "tcells <- FindClusters(object = tcells, resolution = 0.5)"
   ]
  },
  {
   "cell_type": "markdown",
   "id": "e5a0fed7-2acb-48fd-81bf-4b2dd1878ae9",
   "metadata": {},
   "source": [
    "## Run UMAP"
   ]
  },
  {
   "cell_type": "code",
   "execution_count": null,
   "id": "a9b2c0cb-9edc-472c-94fd-8b882acf4f69",
   "metadata": {
    "tags": []
   },
   "outputs": [],
   "source": [
    "tcells <- RunUMAP(tcells, dims = 1:20)"
   ]
  },
  {
   "cell_type": "code",
   "execution_count": null,
   "id": "dc8fe66d-ab76-4a79-8f90-84cc6b4f547a",
   "metadata": {
    "tags": []
   },
   "outputs": [],
   "source": [
    "#vst, umap, dims 20, res. 0.5\n",
    "DimPlot(tcells, reduction = 'umap', label = TRUE)\n",
    "DimPlot(tcells, reduction = 'umap', label = TRUE, group.by = 'sample')\n",
    "DimPlot(tcells, reduction = 'umap', label = TRUE, group.by = 'TCR_frequency')"
   ]
  },
  {
   "cell_type": "markdown",
   "id": "ac285656-43a5-4840-a201-193b246864b5",
   "metadata": {},
   "source": [
    "## As seen in the previous UMAPs, the batch effect was detected. Integrate the T cells data (rPCA based method)"
   ]
  },
  {
   "cell_type": "code",
   "execution_count": null,
   "id": "90350d9f-b152-4701-b621-0becf661621a",
   "metadata": {
    "tags": []
   },
   "outputs": [],
   "source": [
    "#create a list of samples for integration\n",
    "tcells.list <- SplitObject(tcells, split.by = \"sample.effect\")\n",
    "tcells.list"
   ]
  },
  {
   "cell_type": "code",
   "execution_count": null,
   "id": "58bfb182-0bdc-4e59-acfb-33e52d45441e",
   "metadata": {},
   "outputs": [],
   "source": [
    "markers.remove <- grep(pattern = \"^TRAV|^TRBV|^TRGV|^TRDV\",  x = rownames(x = tcells), value = TRUE)\n",
    "tcells.list <- lapply(X = tcells.list, FUN = function(x) {\n",
    "    x <- NormalizeData(x)\n",
    "    x <- FindVariableFeatures(x, selection.method = \"vst\", nfeatures = 5000)\n",
    "})\n",
    "\n",
    "#remove the variable chains before the integration\n",
    "for (i in 1:length(tcells.list)){\n",
    "     VariableFeatures(tcells.list[[i]]) <- VariableFeatures(object = tcells.list[[i]])[!(VariableFeatures(object = tcells.list[[i]])%in%markers.remove)]\n",
    "}"
   ]
  },
  {
   "cell_type": "code",
   "execution_count": null,
   "id": "ad2dcd1c-a131-4eaf-a6c3-02bd6a5d0ce6",
   "metadata": {},
   "outputs": [],
   "source": [
    "#select the features for integration\n",
    "features <- SelectIntegrationFeatures(object.list = tcells.list, nfeatures = 5000)"
   ]
  },
  {
   "cell_type": "code",
   "execution_count": null,
   "id": "25d8d890-deaa-4813-8460-fcd55215cba6",
   "metadata": {},
   "outputs": [],
   "source": [
    "tcells.list <- lapply(X = tcells.list, FUN = function(x) {\n",
    "    x <- ScaleData(x, features = features, verbose = FALSE)\n",
    "    x <- RunPCA(x, features = features, verbose = FALSE)\n",
    "})"
   ]
  },
  {
   "cell_type": "code",
   "execution_count": null,
   "id": "99646dae-6009-43a5-9443-763eba4eb6bd",
   "metadata": {
    "tags": []
   },
   "outputs": [],
   "source": [
    "tcells.anchors <- FindIntegrationAnchors(object.list = tcells.list, anchor.features = features, reduction = \"rpca\")"
   ]
  },
  {
   "cell_type": "code",
   "execution_count": null,
   "id": "e084c5a8-3641-4772-8f6c-a9184fa8817f",
   "metadata": {
    "tags": []
   },
   "outputs": [],
   "source": [
    "tcells.integrated <- IntegrateData(anchorset = tcells.anchors)"
   ]
  },
  {
   "cell_type": "markdown",
   "id": "46d1f763-cb3b-4548-be04-296d8c07defa",
   "metadata": {},
   "source": [
    "## Cluster the integrated file"
   ]
  },
  {
   "cell_type": "code",
   "execution_count": null,
   "id": "9e51c5ed-5b2b-4d80-ab90-8af560e1d226",
   "metadata": {},
   "outputs": [],
   "source": [
    "DefaultAssay(tcells.integrated) <- 'integrated'"
   ]
  },
  {
   "cell_type": "code",
   "execution_count": null,
   "id": "ebe346e1-063a-41c7-b4b6-736cf325a6a8",
   "metadata": {},
   "outputs": [],
   "source": [
    "tcells.integrated <- FindVariableFeatures(tcells.integrated, selection.method = \"vst\", nfeatures = 1500)"
   ]
  },
  {
   "cell_type": "code",
   "execution_count": null,
   "id": "c1f3fd83-f7b7-4fac-8a85-23d564865087",
   "metadata": {
    "tags": []
   },
   "outputs": [],
   "source": [
    "tcells.integrated <- ScaleData(tcells.integrated, features = VariableFeatures(object = tcells.integrated), vars.to.regress = c(\"nCount_RNA\", \"percent.mito\"))\n",
    "tcells.integrated <- RunPCA(tcells.integrated, features = VariableFeatures(object = tcells.integrated))"
   ]
  },
  {
   "cell_type": "code",
   "execution_count": null,
   "id": "ad9b964e-dd60-46ba-98f4-58914ed4ee9f",
   "metadata": {},
   "outputs": [],
   "source": [
    "ElbowPlot(object = tcells.integrated, ndims = 50)"
   ]
  },
  {
   "cell_type": "code",
   "execution_count": null,
   "id": "76bffb3c-6ce3-4e90-a7b8-5a632832c453",
   "metadata": {
    "collapsed": true,
    "jupyter": {
     "outputs_hidden": true
    },
    "tags": []
   },
   "outputs": [],
   "source": [
    "for (i in 1:25){\n",
    "    print(DimHeatmap(object = tcells.integrated, dims = i, cells = 500, balanced = TRUE))\n",
    "}"
   ]
  },
  {
   "cell_type": "code",
   "execution_count": null,
   "id": "7ecedcaf-dcb0-4d2e-ad1b-d4ac9e50f33f",
   "metadata": {},
   "outputs": [],
   "source": [
    "tcells.integrated"
   ]
  },
  {
   "cell_type": "code",
   "execution_count": null,
   "id": "0556e697-bc34-42cd-9099-6a7ac9d684e6",
   "metadata": {},
   "outputs": [],
   "source": [
    "DefaultAssay(tcells) <- 'integrated'"
   ]
  },
  {
   "cell_type": "code",
   "execution_count": null,
   "id": "d0014d48-dbad-4dc7-9119-dcf2f77245b9",
   "metadata": {},
   "outputs": [],
   "source": [
    "tcells <- FindNeighbors(object = tcells, dims = 1:11)"
   ]
  },
  {
   "cell_type": "code",
   "execution_count": null,
   "id": "b9d0507a-f4fd-4c88-9d85-6001a9a26836",
   "metadata": {},
   "outputs": [],
   "source": [
    "#increase the resolution to gain a better in depth insight into the t cells populations\n",
    "tcells <- FindClusters(object = tcells, resolution = 1.6)"
   ]
  },
  {
   "cell_type": "code",
   "execution_count": null,
   "id": "34035239-f0aa-4276-afcd-bd26562cb508",
   "metadata": {},
   "outputs": [],
   "source": [
    "Idents(tcells) <- 'seurat_clusters'\n",
    "options(repr.plot.width = 13, repr.plot.height = 11)\n",
    "DimPlot(tcells, reduction = \"umap\", label = TRUE, label.size = 10, repel = TRUE, pt.size = 0.7) + \n",
    "theme(axis.line = element_line(size=1),\n",
    "      text = element_text(size = 20),\n",
    "      axis.text = element_text(size = 20),\n",
    "      axis.ticks = element_line(size=1),\n",
    "      legend.text=element_text(size=20))\n",
    "options(repr.plot.width = 11, repr.plot.height = 11)"
   ]
  },
  {
   "cell_type": "code",
   "execution_count": null,
   "id": "b650d578-10d5-4d21-a61d-3725b57a7c75",
   "metadata": {
    "tags": []
   },
   "outputs": [],
   "source": [
    "VlnPlot(tcells, features = 'nFeature_RNA', pt.size = 0.01)"
   ]
  },
  {
   "cell_type": "markdown",
   "id": "d8f89761-2c91-4bfc-95d9-5286644bba59",
   "metadata": {},
   "source": [
    "## Cluster markers"
   ]
  },
  {
   "cell_type": "code",
   "execution_count": null,
   "id": "e211e4b8-d1d5-4ee7-a72f-d04bc48e7a3f",
   "metadata": {},
   "outputs": [],
   "source": [
    "DefaultAssay(tcells.integrated) <- 'RNA'"
   ]
  },
  {
   "cell_type": "code",
   "execution_count": null,
   "id": "b68c829c-6f4b-4e87-85f7-3719b6e3d6b7",
   "metadata": {
    "tags": []
   },
   "outputs": [],
   "source": [
    "featurestcells.integrated <- rownames(tcells.integrated)\n",
    "markers.remove <- grep(pattern = \"^TRAV|^TRBV|^TRGV|^TRDV\", x = rownames(tcells.integrated), value = TRUE)\n",
    "featurestcells.integrated <- featurestcells.integrated[!(featurestcells.integrated%in%markers.remove)]\n",
    "tcells.integrated.markers1 <- FindAllMarkers(object = tcells.integrated, only.pos = TRUE, min.pct = 0.25, logfc.threshold = 0.25, features = featurestcells.integrated)"
   ]
  },
  {
   "cell_type": "code",
   "execution_count": null,
   "id": "3e64d03f-d772-449b-99cf-b87b984b3500",
   "metadata": {
    "collapsed": true,
    "jupyter": {
     "outputs_hidden": true
    },
    "tags": []
   },
   "outputs": [],
   "source": [
    "#sort top 30 markers\n",
    "tcells.integrated.markers1_sorted <- c()\n",
    "for (i in 1:length(levels(tcells.integrated.markers1$cluster))){\n",
    "    tcells.integrated.markers1_level <- filter(tcells.integrated.markers1, cluster == levels(tcells.integrated.markers1$cluster)[i])\n",
    "    tcells.integrated.markers1_level <- tcells.integrated.markers1_level[order(-tcells.integrated.markers1_level$avg_log2FC), ]\n",
    "    tcells.integrated.markers1_level <- tcells.integrated.markers1_level[1:30, ]\n",
    "    tcells.integrated.markers1_level <- tcells.integrated.markers1_level[!is.na(tcells.integrated.markers1_level$avg_log2FC), ]\n",
    "    tcells.integrated.markers1_sorted <- rbind(tcells.integrated.markers1_sorted, tcells.integrated.markers1_level)\n",
    "    }\n",
    "tcells.integrated.markers1_sorted_top30 <- tcells.integrated.markers1_sorted\n",
    "tcells.integrated.markers1_sorted_top30\n",
    "write.csv(tcells.integrated.markers1_sorted_top30, file = './tcells.integrated_top30_first.csv')"
   ]
  },
  {
   "cell_type": "code",
   "execution_count": null,
   "id": "3450d252-e284-4a3b-993b-88be90526689",
   "metadata": {
    "tags": []
   },
   "outputs": [],
   "source": [
    "cluster.averages_tcells.integrated <- AverageExpression(tcells.integrated, assay = \"RNA\", return.seurat = TRUE) # , verbose = FALSE)"
   ]
  },
  {
   "cell_type": "code",
   "execution_count": null,
   "id": "44f9eb85-6576-4bc6-8d32-292a66c6eed4",
   "metadata": {
    "tags": []
   },
   "outputs": [],
   "source": [
    "#sort top 5 markers\n",
    "tcells.integrated.markers1_sorted <- c()\n",
    "for (i in 1:length(levels(tcells.integrated.markers1$cluster))){\n",
    "    tcells.integrated.markers1_level <- filter(tcells.integrated.markers1, cluster == levels(tcells.integrated.markers1$cluster)[i])\n",
    "    tcells.integrated.markers1_level <- tcells.integrated.markers1_level[order(-tcells.integrated.markers1_level$avg_log2FC), ]\n",
    "    tcells.integrated.markers1_level <- tcells.integrated.markers1_level[1:5, ]\n",
    "    tcells.integrated.markers1_level <- tcells.integrated.markers1_level[!is.na(tcells.integrated.markers1_level$avg_log2FC), ]\n",
    "    tcells.integrated.markers1_sorted <- rbind(tcells.integrated.markers1_sorted, tcells.integrated.markers1_level)\n",
    "    }\n",
    "tcells.integrated.markers1_sorted_top5 <- tcells.integrated.markers1_sorted\n",
    "tcells.integrated.markers1_sorted_top5"
   ]
  },
  {
   "cell_type": "code",
   "execution_count": null,
   "id": "eeb9508b-cbfc-4d81-8f2d-c471ba33a073",
   "metadata": {},
   "outputs": [],
   "source": [
    "DoHeatmap(cluster.averages_tcells.integrated, features = tcells.integrated.markers1_sorted_top5$gene)+ theme(text = element_text(size = 20, face = \"bold\"))"
   ]
  },
  {
   "cell_type": "markdown",
   "id": "c8388cd3-5b86-4580-9a21-a4bdb670f33d",
   "metadata": {},
   "source": [
    "## combine clusters, remove low quality cells"
   ]
  },
  {
   "cell_type": "code",
   "execution_count": null,
   "id": "a8906dbf-500a-4e6e-a713-a447a9c34da5",
   "metadata": {},
   "outputs": [],
   "source": [
    "### combine clusters 7/2, 10/15/6/11, 13/14 due to their high similarity\n",
    "#create a new subcluster column\n",
    "tcells.integrated@meta.data$recluster <- tcells.integrated@meta.data$seurat_clusters\n",
    "\n",
    "tcells.integrated@meta.data$recluster[tcells.integrated@meta.data$seurat_clusters == 7] <- 2\n",
    "\n",
    "tcells.integrated@meta.data$recluster[tcells.integrated@meta.data$seurat_clusters == 10] <- 6\n",
    "tcells.integrated@meta.data$recluster[tcells.integrated@meta.data$seurat_clusters == 11] <- 6\n",
    "tcells.integrated@meta.data$recluster[tcells.integrated@meta.data$seurat_clusters == 15] <- 6\n",
    "\n",
    "tcells.integrated@meta.data$recluster[tcells.integrated@meta.data$seurat_clusters == 14] <- 13\n",
    "\n",
    "### remove cluster 9, 17 and 19 as low quality cells cluster\n",
    "tcells.integrated <- subset(tcells.integrated, idents = c(9, 17, 19), invert = TRUE)"
   ]
  },
  {
   "cell_type": "code",
   "execution_count": null,
   "id": "51c5206c-7dae-4659-bf7a-e1ba0b5baab4",
   "metadata": {},
   "outputs": [],
   "source": [
    "Idents(tcells) <- 'recluster'\n",
    "options(repr.plot.width = 13, repr.plot.height = 11)\n",
    "DimPlot(tcells, reduction = \"umap\", label = TRUE, label.size = 10, repel = TRUE, pt.size = 0.7) + \n",
    "theme(axis.line = element_line(size=1),\n",
    "      text = element_text(size = 20),\n",
    "      axis.text = element_text(size = 20),\n",
    "      axis.ticks = element_line(size=1),\n",
    "      legend.text=element_text(size=20))\n",
    "options(repr.plot.width = 11, repr.plot.height = 11)"
   ]
  },
  {
   "cell_type": "code",
   "execution_count": null,
   "id": "390b2c1d-cd2a-4a74-be8b-72bb323951d4",
   "metadata": {
    "tags": []
   },
   "outputs": [],
   "source": [
    "#explore some morekers from the DGE analysis and AB assay\n",
    "DefaultAssay(tcells) <- 'RNA'\n",
    "markers <- c('CD27', 'CD7', 'CCR7', 'CCR7-Ab', 'CCR7', 'CD45RA-Ab', 'CD45RO-Ab', 'CD25-Ab', 'IL2RA', 'CXCR4', 'IL2', 'CD45RA-Ab', 'CD45RO-Ab', 'CCR7', 'IFI6', 'FOXP3', 'CX3CR1', 'CCL4')\n",
    "for(i in 1:length(markers)){\n",
    "    print(VlnPlot(tcells, features = markers[i], pt.size = 0.01, sort = TRUE) +\n",
    "        theme(axis.line = element_line(size=1),\n",
    "              text = element_text(size = 20),\n",
    "              axis.text = element_text(size = 20),\n",
    "              axis.ticks = element_line(size=1),\n",
    "              legend.text=element_text(size=20)))\n",
    "}"
   ]
  },
  {
   "cell_type": "markdown",
   "id": "c9715f53-3c94-47c7-8505-b8ef3b14603f",
   "metadata": {},
   "source": [
    "## Rename the clusters"
   ]
  },
  {
   "cell_type": "code",
   "execution_count": null,
   "id": "7cb2e1c1-82cf-4541-92c5-b611cf16283c",
   "metadata": {},
   "outputs": [],
   "source": [
    "tcells@meta.data$ct_highres <- 'FALSE'\n",
    "tcells@meta.data$ct_highres[tcells@meta.data$recluster == '2'] <- 'Tna_1'\n",
    "tcells@meta.data$ct_highres[tcells@meta.data$recluster == '4'] <- 'Tna_2'\n",
    "tcells@meta.data$ct_highres[tcells@meta.data$recluster == '13'] <- 'Tna_3'\n",
    "tcells@meta.data$ct_highres[tcells@meta.data$recluster == '5'] <- 'Tna_4'\n",
    "tcells@meta.data$ct_highres[tcells@meta.data$recluster == '3'] <- 'Tna_5'\n",
    "tcells@meta.data$ct_highres[tcells@meta.data$recluster == '16'] <- 'Tna_6'\n",
    "\n",
    "tcells@meta.data$ct_highres[tcells@meta.data$recluster == '20'] <- 'IFN_sign'\n",
    "\n",
    "tcells@meta.data$ct_highres[tcells@meta.data$recluster == '0'] <- 'TCM_1'\n",
    "tcells@meta.data$ct_highres[tcells@meta.data$recluster == '12'] <- 'TCM_2'\n",
    "tcells@meta.data$ct_highres[tcells@meta.data$recluster == '6'] <- 'TCM_3'\n",
    "tcells@meta.data$ct_highres[tcells@meta.data$recluster == '8'] <- 'TCM_4'\n",
    "tcells@meta.data$ct_highres[tcells@meta.data$recluster == '1'] <- 'TCM_5'\n",
    "\n",
    "tcells@meta.data$ct_highres[tcells@meta.data$recluster == '21'] <- 'TEM_1'\n",
    "tcells@meta.data$ct_highres[tcells@meta.data$recluster == '22'] <- 'TEM_2'\n",
    "\n",
    "tcells@meta.data$ct_highres[tcells@meta.data$recluster == '18'] <- 'Treg'"
   ]
  },
  {
   "cell_type": "code",
   "execution_count": null,
   "id": "3fda326e-1435-4661-88bd-21fc46520500",
   "metadata": {},
   "outputs": [],
   "source": [
    "Idents(tcells) <- 'ct_highres'\n",
    "levels(tcells) <- c('Tna_1', 'Tna_2', 'Tna_3', 'Tna_4', 'Tna_5', 'Tna_6', 'IFN_sign', 'TCM_1', 'TCM_2', 'TCM_3', 'TCM_4', 'TCM_5', 'TEM_1', 'TEM_2', 'Treg')"
   ]
  },
  {
   "cell_type": "code",
   "execution_count": null,
   "id": "0c98c9c6-3dad-44cb-a514-2410af24d41e",
   "metadata": {},
   "outputs": [],
   "source": [
    "options(repr.plot.width = 13, repr.plot.height = 11)\n",
    "DimPlot(tcells, reduction = \"umap\", label = TRUE, label.size = 8, repel = TRUE, pt.size = 0.7) + \n",
    "theme(axis.line = element_line(size=1),\n",
    "      text = element_text(size = 20),\n",
    "      axis.text = element_text(size = 20),\n",
    "      axis.ticks = element_line(size=1),\n",
    "      legend.text=element_text(size=20))\n",
    "options(repr.plot.width = 11, repr.plot.height = 11)\n"
   ]
  },
  {
   "cell_type": "markdown",
   "id": "022d4374-2ac8-4f52-b300-44a88cb26862",
   "metadata": {},
   "source": [
    "## Add diagnosis and twin pair information"
   ]
  },
  {
   "cell_type": "code",
   "execution_count": null,
   "id": "af678943-2e7d-4958-a134-5360ce63a44f",
   "metadata": {},
   "outputs": [],
   "source": [
    "#add diagnosis and twin pair information \n",
    "diagnosis <- read.csv(file = 'diagnosis.csv')\n",
    "tcells$diagnosis <- 'FALSE'\n",
    "tcells$twin_pair <- 'FALSE'\n",
    "for(i in 1:nrow(tcells@meta.data)){\n",
    "    tcells@meta.data$diagnosis[i] <- filter(diagnosis, sample == tcells@meta.data$sample[i])$diagnosis\n",
    "    tcells@meta.data$twin_pair[i] <- filter(diagnosis, sample == tcells@meta.data$sample[i])$twin_pair\n",
    "}"
   ]
  },
  {
   "cell_type": "markdown",
   "id": "a020e3d1-dd1f-4973-8d3b-184e6faaf73e",
   "metadata": {
    "tags": []
   },
   "source": [
    "# Functions for working with the ready T cells file"
   ]
  },
  {
   "cell_type": "code",
   "execution_count": null,
   "id": "3ed3d059-59b1-4329-a336-baf2b13a0f73",
   "metadata": {},
   "outputs": [],
   "source": [
    "#plotting the UMAP\n",
    "cols <- c(\"#FFD258\", \"#E8BF4D\", \"#C09725\", \"#D89510\", \"#CBA049\", \"#EEBC4A\", \"#A2AC13\", \"#557F7A\", \"#409088\", \"#387C75\", \"#3B5B58\", \"#226861\", \"#7AA591\", \"#CBD49C\", \"#FEEDC3\")\n",
    "umap_mapping <- DimPlot(tcells, reduction = 'umap', label = TRUE, pt.size = 0.7, label.size = 5, repel = TRUE, cols = cols) + theme(legend.position = \"none\") +\n",
    "      geom_density2d(data=\n",
    "      data.frame(Embeddings(subset(tcells, idents = c('Tna_4', 'Tna_5', 'TCM_4'))[[\"umap\"]])),\n",
    "      aes(x = UMAP_1, y = UMAP_2), col=\"red\", bins = 8)\n",
    "umap_mapping\n",
    "ggsave(umap_mapping, file =\"output/umap_mapping_selected.png\")\n",
    "ggsave(umap_mapping, file =\"output/umap_mapping_selected.pdf\")"
   ]
  },
  {
   "cell_type": "code",
   "execution_count": null,
   "id": "7c95dfd4-452d-432b-b4b8-a051412a173c",
   "metadata": {},
   "outputs": [],
   "source": [
    "#plotting the feature plots\n",
    "markers <- c('CD45RA-Ab', 'CD45RO-Ab', 'FOXP3', 'CX3CR1')\n",
    "umap_overlay <- FeaturePlot(tcells, reduction = 'umap', label = F, features = markers, pt.size = 0.01, cols = color_grad_flow2, ncol = 2) +\n",
    "                plot_annotation(title = 'T cells markers') & theme_few() &\n",
    "        theme(axis.title.x=element_blank(),\n",
    "                axis.text.x=element_blank(),\n",
    "                axis.ticks.x=element_blank(),\n",
    "                axis.title.y=element_blank(),\n",
    "                axis.text.y=element_blank(),\n",
    "                axis.ticks.y=element_blank(),\n",
    "                legend.position = \"none\")\n",
    "ggsave(umap_overlay, file=\"output/umap_overlay_tcells_markers.pdf\", width = 6, height = 6)"
   ]
  },
  {
   "cell_type": "code",
   "execution_count": null,
   "id": "45afeb52-2456-4fac-ba19-2029583e7f21",
   "metadata": {},
   "outputs": [],
   "source": [
    "# DE for AB assay with LR on twin pairs and all clusters\n",
    "diff_markers_ab  <- function(data, cell_type){\n",
    "        diff  <- subset(data, subset = (twin_pair != \"none\" & ct_highres == cell_type)) %>%\n",
    "                        FindMarkers(., test.use=\"LR\", latent.vars = \"twin_pair\", group.by = \"diagnosis\", ident.1 = \"MS\", ident.2 = \"Healthy\", logfc.threshold = 0, features = rownames(data), assay = \"Ab\", min.pct = 0.05) %>%\n",
    "                        mutate(cell.type = cell_type, gene = rownames(.))\n",
    "    }\n",
    "\n",
    "\n",
    "diff_markers_ab_res  <- unique(levels(tcells)) %>% map_dfr(~ diff_markers_ab(data = tcells, cell_type = .))\n",
    "\n",
    "# plot the selected AB for all clusters\n",
    "diff_AB_Name_ab  <- diff_markers_ab_res %>% subset(gene == \"AB_Name\")\n",
    "color_qual_flow2 <- c(\"TRUE\" = \"#CC242A\", up = \"#CC242A\", \"FALSE\" = \"#557F7A\", down = \"#557F7A\")\n",
    "reverselog_trans <- function(base = exp(1)) {\n",
    "    trans <- function(x) -log(x, base)\n",
    "    inv <- function(x) base^(-x)\n",
    "    trans_new(paste0(\"reverselog-\", format(base)), trans, inv,\n",
    "              log_breaks(base = base),\n",
    "              domain = c(1e-100, Inf))\n",
    "    }\n",
    "diff_AB_Name_ab  <- diff_AB_Name_ab[order(diff_AB_Name_ab$p_val_adj, decreasing = T),]\n",
    "diff_AB_Name_ab$cell.type  <- factor(diff_AB_Name_ab$cell.type, levels = unique(diff_AB_Name_ab$cell.type))\n",
    "diff_AB_Name_ab_up  <- subset(diff_AB_Name_ab, avg_log2FC > 0)\n",
    "AB_Name_balloon_path <- ggplot(diff_AB_Name_ab_up, aes(y=cell.type, x= p_val_adj, fill = avg_log2FC > 0))+\n",
    "        scale_fill_manual(values = color_qual_flow2)+\n",
    "        geom_vline(xintercept = .05, color = \"grey\", linetype=\"dashed\") +\n",
    "        geom_segment( aes(yend=cell.type, xend=1), col= \"black\") +\n",
    "        geom_point(shape=21, aes(size = abs(avg_log2FC))) +\n",
    "        scale_x_continuous(trans=reverselog_trans(10))+\n",
    "        scale_size_continuous(range = c(2, 7)) +\n",
    "        theme_tufte()+ xlab(\"p value (adj)\") + ylab(\"\") +\n",
    "        theme(text=element_text(family=\"Helvetica\"),\n",
    "          axis.text.x = element_text(angle = 45, hjust = 1), legend.position = \"right\")\n",
    "AB_Name_balloon_path\n",
    "ggsave(AB_Name_balloon_path, file=\"output/AB_Name_lolli.pdf\", width = 6.5, height = 4)"
   ]
  },
  {
   "cell_type": "code",
   "execution_count": null,
   "id": "3bdafcea-8c86-46d3-adab-e593aeaf9f94",
   "metadata": {},
   "outputs": [],
   "source": [
    "#Run the DGE on the selected clusters with building Volcano plots\n",
    "object <- tcells\n",
    "DefaultAssay(object) <- 'RNA'\n",
    "featurestcells <- rownames(object)\n",
    "markers.remove <- grep(pattern = \"^TRAV|^TRBV|^TRGV|^TRDV|^RPL|^RPS|^MT-|^IGKV|^IGLV|^IGHV|^IGH|^IGKC\", x = rownames(object), value = TRUE)\n",
    "featurestcells <- featurestcells[!(featurestcells%in%markers.remove)]\n",
    "\n",
    "# DEGs for all clusters\n",
    "diff_sig_markers  <- function(data, cell_type){\n",
    "        sig_diff  <- subset(data, subset = (twin_pair != \"none\" & cell.type == cell_type)) %>% \n",
    "                        FindMarkers(., test.use=\"LR\", latent.vars = \"twin_pair\", group.by = \"diagnosis\", ident.1 = \"MS\", ident.2 = \"Healthy\", logfc.threshold = 0.05, min.pct = 0.1, features = featurestcells) %>% \n",
    "                        mutate(cell.type = cell_type, gene = rownames(.))\n",
    "    }\n",
    "cell_types <- c('Tna_4', 'Tna_5', 'TCM_4') #here the selected clusters\n",
    "sig_markers  <- cell_types %>% map_dfr(~ diff_sig_markers(data = object, cell_type = .))\n",
    "sig_markers\n",
    "# plot volcanos per cluster\n",
    "plot_volcano  <- function(data, cell_type){\n",
    "    volcano <- ggplot(subset(data, cell.type == cell_type), aes(x = avg_log2FC, y = -log10(p_val_adj))) +\n",
    "    geom_vline(xintercept = 0) +\n",
    "    geom_hline(yintercept = -log10(0.05), color =\"grey\", linetype =\"dashed\") +\n",
    "    geom_point(data = subset(data, cell.type == cell_type),\n",
    "                color = \"grey\", alpha = 0.5) +\n",
    "    geom_point(data = subset(data, cell.type == cell_type & avg_log2FC > 0 & p_val_adj < .05)[1:20,],\n",
    "                fill = \"#CC242A\", alpha = 1, shape=21, size= 2.5) +\n",
    "    geom_point(data = subset(data, cell.type == cell_type & avg_log2FC < 0 & p_val_adj < .05)[1:20,],\n",
    "                fill = \"#557F7A\", alpha = 1, shape=21, size= 2.5) +\n",
    "    geom_text_repel(data=subset(data, cell.type == cell_type & p_val_adj < .05)[1:20,], aes(label = gene))+\n",
    "    theme_linedraw() +\n",
    "    theme(panel.grid = element_blank(), legend.position = \"none\") +\n",
    "    xlab(\"log2(average fold change)\") +\n",
    "    ylab(\"-log10(p-value)\")\n",
    "    volcano\n",
    "    ggsave(volcano, file=paste0(\"DE_tcells/volcano_\", cell_type, \".pdf\"), height = 4, width = 5)\n",
    "    }\n",
    "\n",
    "cell_types %>% map(~ plot_volcano(data = sig_markers, cell_type = .))"
   ]
  },
  {
   "cell_type": "markdown",
   "id": "aa2d486d-1104-4e64-9a03-f51e39db20ce",
   "metadata": {},
   "source": [
    "## Explore the expansion"
   ]
  },
  {
   "cell_type": "code",
   "execution_count": null,
   "id": "b0dede1e-f834-4e38-afce-6a5b7c13ea4c",
   "metadata": {},
   "outputs": [],
   "source": [
    "#create a sample_clono column\n",
    "tcells@meta.data$sample_clono <- paste(tcells@meta.data$sample.effect, tcells@meta.data$TCR_clonotype_id, sep = '_')\n",
    "\n",
    "#crea expanded column\n",
    "tcells@meta.data$TCR_frequency <- as.numeric(tcells@meta.data$TCR_frequency)\n",
    "tcells@meta.data$expand <- 'FALSE'\n",
    "tcells@meta.data$expand[tcells@meta.data$TCR_frequency > 2] <- 'expanded'\n",
    "tcells@meta.data$expand[tcells@meta.data$TCR_frequency < 3] <- 'non-expanded'\n",
    "unique(tcells@meta.data$expand)\n",
    "\n",
    "options(repr.plot.width = 16, repr.plot.height = 11)\n",
    "expanded_cells <- DimPlot(tcells, reduction = \"umap\", label = TRUE, label.size = 8, cells.highlight = rownames(filter(tcells@meta.data, expand == 'expanded')), sizes.highlight = 0.6, repel = TRUE, pt.size = 0.8, cols.highlight = '#FF7B65') + \n",
    "theme(text = element_text(size = 20),\n",
    "      axis.text = element_text(size = 20),\n",
    "      legend.text=element_text(size=20))\n",
    "expanded_cells\n",
    "ggsave(expanded_cells, file = 'expansion/umap_expandedcells.pdf', width = 16, height = 11)\n",
    "options(repr.plot.width = 11, repr.plot.height = 11)\n"
   ]
  },
  {
   "cell_type": "code",
   "execution_count": null,
   "id": "8352abf6-2487-4375-890b-3162937dd904",
   "metadata": {},
   "outputs": [],
   "source": [
    "#exlore the expansion per cluster/sample/diagnosis\n",
    "diagnosis_list <- c('Healthy', 'MS')\n",
    "clusters_list <- levels(object)\n",
    "alldiagnosis_expansion_together <- c()\n",
    "for (d in 1:length(diagnosis_list)){\n",
    "    persample_percluster <- data.frame(matrix(NA, nrow = length(unique(filter(object@meta.data, diagnosis == diagnosis_list[d])$twin)), ncol = length(clusters_list)))\n",
    "    colnames(persample_percluster) <- clusters_list\n",
    "    rownames(persample_percluster) <- unique(filter(object@meta.data, diagnosis == diagnosis_list[d])$twin)\n",
    "    for(i in 1:nrow(persample_percluster)){\n",
    "        for (c in 1:ncol(persample_percluster)){\n",
    "            persample_percluster[i, c] <- 100 * nrow(filter(object@meta.data, ct_highres == colnames(persample_percluster)[c] & expand == 'expanded' & twin == rownames(persample_percluster)[i])) /\n",
    "                                            nrow(filter(object@meta.data, ct_highres == colnames(persample_percluster)[c] & twin == rownames(persample_percluster)[i]))\n",
    "            if(is.na(persample_percluster[i, c])){persample_percluster[i, c] <- 0}\n",
    "        }\n",
    "    }\n",
    "    persample_percluster$diagnosis <- diagnosis_list[d]\n",
    "    alldiagnosis_expansion_together <- rbind(alldiagnosis_expansion_together, persample_percluster)\n",
    "}\n",
    "alldiagnosis_expansion_together$twin <- rownames(alldiagnosis_expansion_together)\n",
    "alldiagnosis_expansion_together\n",
    "write.csv(alldiagnosis_expansion_together, file = './expansion/alldiagnosis_together_persample_percluster.csv')"
   ]
  },
  {
   "cell_type": "markdown",
   "id": "c3b5915b-6559-4450-89f0-4886c07c675a",
   "metadata": {},
   "source": [
    "## Build up the pseudotime trajectory"
   ]
  },
  {
   "cell_type": "code",
   "execution_count": null,
   "id": "72f40bd4-3401-4051-a48b-5358c1af4ec6",
   "metadata": {},
   "outputs": [],
   "source": [
    "Idents(tcells) <- 'ct_highres'\n",
    "levels(tcells) <- c('Tna_1', 'Tna_2', 'Tna_3', 'Tna_4', 'Tna_5', 'Tna_6', 'IFN_sign', 'TCM_1', 'TCM_2', 'TCM_3', 'TCM_4', 'TCM_5', 'TEM_1', 'TEM_2', 'Treg')\n",
    "object <- tcells\n",
    "\n",
    "#monocle v3:\n",
    "gene_annotation <- as.data.frame(rownames(object@reductions[[\"pca\"]]@feature.loadings),\n",
    "                                 row.names = rownames(object@reductions[[\"pca\"]]@feature.loadings))\n",
    "colnames(gene_annotation) <- \"gene_short_name\"\n",
    "\n",
    "\n",
    "cell_metadata <- as.data.frame(object@assays[[\"RNA\"]]@counts@Dimnames[[2]],\n",
    "                               row.names = object@assays[[\"RNA\"]]@counts@Dimnames[[2]])\n",
    "colnames(cell_metadata) <- \"barcode\"\n",
    "\n",
    "\n",
    "New_matrix <- object@assays[[\"RNA\"]]@counts\n",
    "New_matrix <- New_matrix[rownames(object@reductions[[\"pca\"]]@feature.loadings), ]\n",
    "expression_matrix <- New_matrix\n",
    "\n",
    "library(monocle3)\n",
    "\n",
    "cds_from_seurat <- new_cell_data_set(expression_matrix,\n",
    "                                     cell_metadata = cell_metadata,\n",
    "                                     gene_metadata = gene_annotation)\n",
    "\n",
    "\n",
    "recreate.partition <- c(rep(1, length(cds_from_seurat@colData@rownames)))\n",
    "names(recreate.partition) <- cds_from_seurat@colData@rownames\n",
    "recreate.partition <- as.factor(recreate.partition)\n",
    "\n",
    "cds_from_seurat@clusters@listData[[\"UMAP\"]][[\"partitions\"]] <- recreate.partition\n",
    "\n",
    "\n",
    "\n",
    "list_cluster <- object@active.ident\n",
    "names(list_cluster) <- object@assays[[\"RNA\"]]@data@Dimnames[[2]]\n",
    "\n",
    "cds_from_seurat@clusters@listData[[\"UMAP\"]][[\"clusters\"]] <- list_cluster\n",
    "\n",
    "\n",
    "\n",
    "cds_from_seurat@clusters@listData[[\"UMAP\"]][[\"louvain_res\"]] <- \"NA\"\n",
    "\n",
    "\n",
    "cds_from_seurat@int_colData@listData$reducedDims@listData[[\"UMAP\"]] <-object@reductions[[\"umap\"]]@cell.embeddings\n",
    "\n",
    "\n",
    "cds_from_seurat@preprocess_aux$gene_loadings <- object@reductions[[\"pca\"]]@feature.loadings\n",
    "cds_from_seurat <- learn_graph(cds_from_seurat, use_partition = F)\n",
    "\n",
    "plot_cells(cds_from_seurat, \n",
    "                   color_cells_by = 'cluster',\n",
    "           \n",
    "                   label_groups_by_cluster=TRUE,\n",
    "                   label_leaves=T,\n",
    "                   label_branch_points=TRUE,\n",
    "           graph_label_size=4)\n",
    "\n",
    "cds_from_seurat <- order_cells(cds_from_seurat, root_cells = WhichCells(object, idents = 'Tna_1'))"
   ]
  },
  {
   "cell_type": "code",
   "execution_count": null,
   "id": "bd3d304b-be63-407a-a86f-459f4de8e9ed",
   "metadata": {},
   "outputs": [],
   "source": [
    "#add the data from the monocle pseudotime analysis into the seurat object\n",
    "object <- AddMetaData(\n",
    "  object = object,\n",
    "  metadata = cds_from_seurat@principal_graph_aux@listData$UMAP$pseudotime,\n",
    "  col.name = \"Pseudotime\"\n",
    ")"
   ]
  },
  {
   "cell_type": "code",
   "execution_count": null,
   "id": "e8cbea03-a277-40ce-a978-e6be60fdd912",
   "metadata": {},
   "outputs": [],
   "source": [
    "options(repr.plot.width=15, repr.plot.height=13)"
   ]
  },
  {
   "cell_type": "code",
   "execution_count": null,
   "id": "5cca11ca-2344-4165-bedb-c73bd5ca35bb",
   "metadata": {
    "tags": []
   },
   "outputs": [],
   "source": [
    "options(repr.plot.width=15, repr.plot.height=13)\n",
    "color_grad_flow2 <- c(\"#331820\", \"#4D4F55\", \"#55626B\", \"#5A767E\", \"#628B8A\", \"#709B91\", \"#82AA96\", \"#98B89A\", \"#B0C6A2\", \"#C9D3AB\", \"#E4E0B6\", \"#FEEDC3\")\n",
    "pseudotime_umap <- FeaturePlot(object, features = 'Pseudotime', pt.size = 0.7, label = TRUE, label.size = 6, repel = TRUE, cols = c(\"#FEEDC3\", \"#557F7A\"))\n",
    "print(pseudotime_umap)\n",
    "ggsave(pseudotime_umap, file=\"output/pseudotime_umap.pdf\")\n",
    "ggsave(pseudotime_umap, file=\"output/pseudotime_umap.png\")\n",
    "options(repr.plot.width=11, repr.plot.height=11)"
   ]
  },
  {
   "cell_type": "code",
   "execution_count": null,
   "id": "ad89f9f7-f592-44f4-a7ac-f6569ee2c70f",
   "metadata": {},
   "outputs": [],
   "source": [
    "# plot pseudotime vs protein markers\n",
    "data_ab <- t(tcells@assays$Ab@data)\n",
    "meta_monocle <- tcells@meta.data\n",
    "data_ab_pseudo <- data.frame(cell_id = names(meta_monocle), pseudotime = meta_monocle$Pseudotime, cluster = tcells[[\"ct_highres\"]]$ct_highres, data_ab)\n",
    "\n",
    "cluster_pseudotime_stats <- data_ab_pseudo %>% group_by(cluster) %>% summarize_at(\"pseudotime\", c(mean, sd))\n",
    "colnames(cluster_pseudotime_stats)[2:3] <- c(\"mean\", \"sd\")\n",
    "\n",
    "cluster_pseudotime_stats$mean_minus_sd <- (cluster_pseudotime_stats$mean-cluster_pseudotime_stats$sd)\n",
    "cluster_pseudotime_stats$mean_plus_sd <- (cluster_pseudotime_stats$mean+cluster_pseudotime_stats$sd)\n",
    "\n",
    "cluster_pseudotime_stats_m <- cluster_pseudotime_stats[,c(1, 2, 4, 5)] %>% melt\n",
    "\n",
    "\n",
    "pseudo_abs <- ggplot(subset(data_ab_pseudo, cluster != \"Treg\"), aes(x = pseudotime, y = CD25.Ab)) + \n",
    "geom_vline(xintercept = mean(subset(data_ab_pseudo, cluster %in% c(\"Tna_4\"))$pseudotime), linetype = \"dashed\", color = \"grey\") +\n",
    "geom_vline(xintercept = mean(subset(data_ab_pseudo, cluster %in% c(\"Tna_5\"))$pseudotime), linetype = \"dashed\", color = \"grey\") +\n",
    "geom_rug(data = subset(cluster_pseudotime_stats_m, cluster == \"Tna_4\" & variable == \"mean\"), col = \"#CB181E\", sides = \"b\", inherit.aes = FALSE, size = 2, aes(x = value), length = unit(0.07, \"npc\")) + \n",
    "geom_rug(data = subset(cluster_pseudotime_stats_m, cluster == \"Tna_5\" & variable == \"mean\"), col = \"#CB181E\", sides = \"b\", inherit.aes = FALSE, size = 2, aes(x = value), length = unit(0.07, \"npc\")) + \n",
    "coord_cartesian(ylim=c(0,2.5)) +\n",
    "geom_smooth(fill = \"#FFD443\", col = \"#FFD443\", aes(x = pseudotime, y = CD25.Ab), method = \"gam\", formula = y ~ s(x, bs = \"cs\", fx = TRUE, k = 6)) +\n",
    "geom_smooth(fill = \"#4D7C76\", col = \"#4D7C76\", aes(x = pseudotime, y = CD45RA.Ab), method = \"gam\", formula = y ~ s(x, bs = \"cs\", fx = TRUE, k = 6)) +\n",
    "geom_smooth(fill = \"#D2D699\", col = \"#D2D699\", aes(x = pseudotime, y = CD45RO.Ab), method = \"gam\", formula = y ~ s(x, bs = \"cs\", fx = TRUE, k = 6)) +\n",
    "geom_smooth(fill = \"#7CA38B\", col = \"#7CA38B\", aes(x = pseudotime, y = CCR7.Ab), method = \"gam\", formula = y ~ s(x, bs = \"cs\", fx = TRUE, k = 6)) +\n",
    "scale_color_manual(values = cols_clust) +\n",
    "theme_few()\n",
    "pseudo_abs\n",
    "ggsave(pseudo_abs, file = \"output/pseudotime_abs_Tna4_mapping_monocle.pdf\", width = 5, height = 3.5)\n"
   ]
  },
  {
   "cell_type": "code",
   "execution_count": null,
   "id": "375bd6e1-65d7-4ec8-a52f-0ad1f3fa841d",
   "metadata": {},
   "outputs": [],
   "source": [
    "#save the object for diffusion map building in scanpy\n",
    "library(SeuratDisk)\n",
    "DefaultAssay(object) = \"integrated\"\n",
    "SaveH5Seurat(object, filename = \"./tcells_only_monocle.h5Seurat\", overwrite = T)\n",
    "Convert(\"tcells_only_monocle.h5Seurat\", dest = \"h5ad\")"
   ]
  },
  {
   "cell_type": "markdown",
   "id": "46ff387e-83ff-42db-9c3e-01913cfa2d15",
   "metadata": {},
   "source": [
    "## Build up diffusion maps in scanpy (with Python!)"
   ]
  },
  {
   "cell_type": "code",
   "execution_count": null,
   "id": "d7ade02b-805a-4855-ab9c-3d685ea333bd",
   "metadata": {},
   "outputs": [],
   "source": [
    "import numpy as np\n",
    "import pandas as pd\n",
    "import matplotlib.pyplot as pl\n",
    "from matplotlib import rcParams\n",
    "import scanpy as sc\n",
    "import scipy as sp\n",
    "import random\n",
    "import scvelo as scv\n",
    "import numpy as np\n",
    "import umap\n",
    "sc.settings.verbosity = 3  # verbosity: errors (0), warnings (1), info (2), hints (3)\n",
    "sc.settings.set_figure_params(dpi=150, frameon=False, figsize=(7, 7), facecolor='white')\n",
    "from platform import python_version\n",
    "print(python_version())\n",
    "import PyQt5\n",
    "%matplotlib qt"
   ]
  },
  {
   "cell_type": "code",
   "execution_count": null,
   "id": "dcdade7d-9477-42d8-b784-a3691b6a075c",
   "metadata": {
    "tags": []
   },
   "outputs": [],
   "source": [
    "#load the object, perform neighbouring and dimensional reduction\n",
    "random.seed(0)\n",
    "adata = sc.read_h5ad(\"./tcells_only_slingshot.h5ad\")\n",
    "sc.pp.highly_variable_genes(adata, n_top_genes = 1000, flavor=\"seurat\")\n",
    "sc.tl.pca(adata)\n",
    "sc.pp.neighbors(adata, n_neighbors=20, n_pcs=11)\n",
    "sc.tl.diffmap(adata)\n",
    "\n",
    "palette = [\"#FFD258\", \"#E8BF4D\", \"#C09725\", \"#D89510\", \"#CBA049\", \"#EEBC4A\", \"#A2AC13\", \"#557F7A\", \"#409088\", \"#387C75\", \"#3B5B58\", \"#226861\", \"#7AA591\", \"#CBD49C\", \"#FEEDC3\"]\n",
    "\n",
    "#reorder the categories\n",
    "adata.obs['ct_highres'].cat.reorder_categories(['Tna_1', 'Tna_2', 'Tna_3', 'Tna_4', 'Tna_5', 'Tna_6', 'IFN_sign', 'TCM_1', 'TCM_2', 'TCM_3', 'TCM_4', 'TCM_5', 'TEM_1', 'TEM_2', 'Treg'], inplace=True)\n",
    "\n",
    "#plot the diffusion maps\n",
    "%matplotlib inline\n",
    "sc.set_figure_params(dpi=300, frameon=False, figsize=(10, 10), facecolor='white', vector_friendly = True)\n",
    "sc.pl.diffmap(adata,components=[1,2],color=[\"ct_highres\"], frameon=True, projection = \"2d\",\n",
    "              legend_loc=\"right margin\", palette = palette, legend_fontsize = 12, legend_fontweight = 'normal', size = 20,\n",
    "             save = '_monocle_withlegend.pdf')\n",
    "\n",
    "sc.set_figure_params(dpi=300, frameon=False, figsize=(10, 10), facecolor='white', vector_friendly = True)\n",
    "sc.pl.diffmap(adata,components=[1,2],color=[\"ct_highres\"], frameon=True, projection = \"2d\",\n",
    "              legend_loc=\"on data\", palette = palette, legend_fontsize = 12, legend_fontweight = 'normal', size = 20,\n",
    "             save = '_monocle.pdf')\n",
    "\n",
    "sc.set_figure_params(dpi=300, frameon=False, figsize=(9, 10), facecolor='white', vector_friendly = True)\n",
    "sc.pl.diffmap(adata,components=[1,2],color=[\"ct_highres\"], frameon=True, projection = \"2d\",\n",
    "              legend_loc=\"none\", palette = palette, legend_fontsize = 12, legend_fontweight = 'normal', size = 20,\n",
    "             save = '_monocle_without_legend.pdf')"
   ]
  },
  {
   "cell_type": "markdown",
   "id": "cbdf832d-80c6-4e58-9f1a-2c60388867bd",
   "metadata": {},
   "source": [
    "## Run Dorothea on T cells data"
   ]
  },
  {
   "cell_type": "code",
   "execution_count": null,
   "id": "c5f224ec-bbeb-405b-a107-f2fa40d2d40c",
   "metadata": {},
   "outputs": [],
   "source": [
    "# transcription factor activity\n",
    "library(viper)\n",
    "library(dorothea)\n",
    "\n",
    "dorothea_regulon_human <- get(data(\"dorothea_hs\", package = \"dorothea\"))\n",
    "\n",
    "regulon <- dorothea_regulon_human %>%\n",
    "filter(confidence %in% c(\"A\",\"B\",\"C\"))\n",
    "\n",
    "Th_naive <- tcells %>% subset(subset = (ct_highres %in% c(\"Tna_1\", \"Tna_2\", \"Tna_3\", \"Tna_4\", \"Tna_5\", \"Tna_6\", \"IFN_sign\") & twin_pair != \"none\") )\n",
    "\n",
    "Th_naive <- run_viper(Th_naive, regulon,\n",
    "options = list(method = \"scale\", minsize = 4, \n",
    "eset.filter = FALSE, cores = 32, \n",
    "verbose = TRUE))\n",
    "\n",
    "\n",
    "DefaultAssay(object = Th_naive) <- \"dorothea\"\n",
    "# phagocytes <- ScaleData(phagocytes)\n",
    "\n",
    "diff_markers_TF <- function(data, cell_type){\n",
    "diff <- subset(data, subset = (twin_pair != \"none\" & ct_highres == cell_type)) %>% \n",
    "FindMarkers(., test.use=\"LR\", latent.vars = \"twin_pair\", group.by = \"diagnosis\", ident.1 = \"MS\", ident.2 = \"Healthy\", logfc.threshold = 0) %>%\n",
    "mutate(cell.type = cell_type, gene = rownames(.))\n",
    "}\n",
    "\n",
    "TF_diff_res <- unique(Idents(Th_naive)) %>% map_dfr(~ diff_markers_TF(data = Th_naive, cell_type = .))\n",
    "TF_sig_markers <- TF_diff_res %>% subset(p_val_adj <.05)\n",
    "TF_sig_markers %>% View\n",
    "write.csv(TF_sig_markers, file =\"output/DETF_activity_naive.csv\")\n",
    "\n",
    "TF_violins <- Th_naive %>% subset(subset = (twin_pair != \"none\" & ct_highres == \"Tna_4\")) %>% \n",
    "VlnPlot(features = \"RELA\", split.by = \"diagnosis\", group.by = \"twin_pair\",\n",
    "pt.size = 1, combine = FALSE, assay = \"dorothea\")\n",
    "\n",
    "TF_violins\n",
    "\n",
    "data_exp <- Th_naive %>% subset(subset = (twin_pair != \"none\" & ct_highres == \"Tna_5\")) %>% \n",
    "AverageExpression(assay =\"dorothea\", features = c(\"STAT4\", \"RELA\"), group.by = \"sample\") %>%\n",
    "melt %>% rename(gene = Var1, sample = Var2, expression = value) %>% merge(md) %>%\n",
    "arrange(gene, twin_pair, diagnosis) \n",
    "\n",
    "normalize <- function(x){(x- min(x))/(max(x)-min(x))}\n",
    "\n",
    "mat <- subset(data_exp, gene == \"STAT4\")$expression %>% normalize %>%\n",
    "matrix(ncol = (2), byrow = T, dimnames = list(paste(\"twin pair\", unique(data_exp$twin_pair))))\n",
    "\n",
    "white.black2 <- colorRampPalette(c(\"white\", \"black\"))(n = 20)\n",
    "\n",
    "\n",
    "pheatmap(mat = mat, \n",
    "scale= \"none\",\n",
    "color = white.black2,\n",
    "# breaks = breaks,\n",
    "cluster_rows=F,\n",
    "cluster_cols=F,\n",
    "# annotation_row = annotation,\n",
    "# annotation_colors = ann_col,\n",
    "cellwidth = 10, cellheight = 10,\n",
    "border_color = NA,\n",
    "filename= \"output/TF_STAT4_Tna5_heatmap_norm.pdf\"\n",
    ")"
   ]
  },
  {
   "cell_type": "markdown",
   "id": "ca0e99cc-8cbd-4ec9-b473-d1b23862fed4",
   "metadata": {},
   "source": [
    "# Subset P8 samples, recluster it, remove everything except of monos"
   ]
  },
  {
   "cell_type": "code",
   "execution_count": null,
   "id": "978353fa-c32f-4bed-bee5-3bdd46fb6bf4",
   "metadata": {},
   "outputs": [],
   "source": [
    "Idents(pbmc) <- 'sort'\n",
    "## change \"sort\" value for sample X139 (p5 and p8 were processed in this sample together):\n",
    "pbmc@meta.data$sort[pbmc@meta.data$sample == 'X139'] <- 'p8'\n",
    "monos <- subset(pbmc, idents = 'p8')\n",
    "monos"
   ]
  },
  {
   "cell_type": "code",
   "execution_count": null,
   "id": "6a879781-0a83-4c90-bc03-8cc8f3f8e867",
   "metadata": {},
   "outputs": [],
   "source": [
    "## change back \"sort\" value for sample X139:\n",
    "pbmc@meta.data$sort[pbmc@meta.data$sample == 'X139'] <- 'p5'"
   ]
  },
  {
   "cell_type": "code",
   "execution_count": null,
   "id": "7c67c653-8263-461e-80be-1afd76f9a218",
   "metadata": {},
   "outputs": [],
   "source": [
    "DefaultAssay(monos) <- 'RNA'"
   ]
  },
  {
   "cell_type": "code",
   "execution_count": null,
   "id": "53bd025b-5535-47c4-89a5-cd1f39bae9d1",
   "metadata": {},
   "outputs": [],
   "source": [
    "monos <- FindVariableFeatures(monos, selection.method = \"vst\", nfeatures = 2000)\n",
    "length(x = VariableFeatures(object = monos))"
   ]
  },
  {
   "cell_type": "code",
   "execution_count": null,
   "id": "cff89717-e891-4124-9130-71a34b17af9b",
   "metadata": {},
   "outputs": [],
   "source": [
    "monos <- ScaleData(monos, features = VariableFeatures(object = monos), vars.to.regress = c(\"nCount_RNA\", \"percent.mito\"))\n",
    "monos <- RunPCA(monos, features = VariableFeatures(object = monos))"
   ]
  },
  {
   "cell_type": "code",
   "execution_count": null,
   "id": "ec39567b-e04a-4f37-ad8e-d73d66a15960",
   "metadata": {},
   "outputs": [],
   "source": [
    "ElbowPlot(object = monos, ndims = 50)"
   ]
  },
  {
   "cell_type": "code",
   "execution_count": null,
   "id": "d52511a0-b6e4-4da9-b03e-8747c60b2413",
   "metadata": {
    "collapsed": true,
    "jupyter": {
     "outputs_hidden": true
    },
    "tags": []
   },
   "outputs": [],
   "source": [
    "for (i in 1:25){\n",
    "    print(DimHeatmap(object = monos, dims = i, cells = 500, balanced = TRUE))\n",
    "}"
   ]
  },
  {
   "cell_type": "markdown",
   "id": "8cab74b1-0185-4f8d-b332-cd25e819c25a",
   "metadata": {},
   "source": [
    "## Cluster the cells"
   ]
  },
  {
   "cell_type": "code",
   "execution_count": null,
   "id": "f4a8e80f-0224-4589-bd8f-bd07cdce0326",
   "metadata": {},
   "outputs": [],
   "source": [
    "monos <- FindNeighbors(object = monos, dims = 1:14)"
   ]
  },
  {
   "cell_type": "code",
   "execution_count": null,
   "id": "0aed49bd-ff84-4fe6-92a0-f6ba6cf77f12",
   "metadata": {},
   "outputs": [],
   "source": [
    "monos <- FindClusters(object = monos, resolution = 0.5)"
   ]
  },
  {
   "cell_type": "markdown",
   "id": "602fe026-7961-4c4c-935c-a095890b2255",
   "metadata": {},
   "source": [
    "## Run UMAP"
   ]
  },
  {
   "cell_type": "code",
   "execution_count": null,
   "id": "74d4e15e-c4e2-4d84-846e-dea7226e028f",
   "metadata": {
    "tags": []
   },
   "outputs": [],
   "source": [
    "monos <- RunUMAP(monos, dims = 1:14)"
   ]
  },
  {
   "cell_type": "code",
   "execution_count": null,
   "id": "b620fb7d-73e2-4805-9fda-47f34a10a6e4",
   "metadata": {
    "tags": []
   },
   "outputs": [],
   "source": [
    "#vst, umap, dims 14, res. 0.5\n",
    "DimPlot(monos, reduction = 'umap', label = TRUE, label.size = 8)\n",
    "DimPlot(monos, reduction = 'umap', label = TRUE, group.by = 'sample')"
   ]
  },
  {
   "cell_type": "code",
   "execution_count": null,
   "id": "f070bd29-d067-491d-9532-a8e85eee81f3",
   "metadata": {
    "tags": []
   },
   "outputs": [],
   "source": [
    "#dims 14, 0.5\n",
    "VlnPlot(monos, features = 'nFeature_RNA', pt.size = 0.01)"
   ]
  },
  {
   "cell_type": "markdown",
   "id": "7a046c2b-9309-417c-a349-47c60a7763b5",
   "metadata": {},
   "source": [
    "## Cluster markers"
   ]
  },
  {
   "cell_type": "code",
   "execution_count": null,
   "id": "b8e3df8d-bf8e-488e-bfee-f20e6e05d238",
   "metadata": {},
   "outputs": [],
   "source": [
    "DefaultAssay(monos) <- 'RNA'"
   ]
  },
  {
   "cell_type": "code",
   "execution_count": null,
   "id": "8dcaa7e6-75c7-423c-a863-10d8f403201d",
   "metadata": {
    "tags": []
   },
   "outputs": [],
   "source": [
    "featuresmonos <- rownames(monos)\n",
    "monos.markers1 <- FindAllMarkers(object = monos, only.pos = TRUE, min.pct = 0.25, logfc.threshold = 0.25, features = featuresmonos)"
   ]
  },
  {
   "cell_type": "code",
   "execution_count": null,
   "id": "e3851d72-0365-4fe8-a819-c66928658f19",
   "metadata": {
    "tags": []
   },
   "outputs": [],
   "source": [
    "#sort top 30 first markers per cluster\n",
    "monos.markers1_sorted <- c()\n",
    "for (i in 1:length(levels(monos.markers1$cluster))){\n",
    "    monos.markers1_level <- filter(monos.markers1, cluster == levels(monos.markers1$cluster)[i])\n",
    "    monos.markers1_level <- monos.markers1_level[order(-monos.markers1_level$avg_log2FC), ]\n",
    "    monos.markers1_level <- monos.markers1_level[1:30, ]\n",
    "    monos.markers1_level <- monos.markers1_level[!is.na(monos.markers1_level$avg_log2FC), ]\n",
    "    monos.markers1_sorted <- rbind(monos.markers1_sorted, monos.markers1_level)\n",
    "    }\n",
    "monos.markers1_sorted_top30 <- monos.markers1_sorted\n",
    "write.csv(monos.markers1_sorted_top30, file = './monos_top30_first.csv')"
   ]
  },
  {
   "cell_type": "code",
   "execution_count": null,
   "id": "a6bfe931-e790-41b3-b666-c1c58700e615",
   "metadata": {
    "tags": []
   },
   "outputs": [],
   "source": [
    "#compute the average expression for heatmaps\n",
    "cluster.averages_monos <- AverageExpression(monos, assay = \"RNA\", return.seurat = TRUE) # , verbose = FALSE)"
   ]
  },
  {
   "cell_type": "code",
   "execution_count": null,
   "id": "7c612ab6-e84b-48eb-846c-e5b643a99f02",
   "metadata": {
    "tags": []
   },
   "outputs": [],
   "source": [
    "#sort top5 first markers per cluster\n",
    "monos.markers1_sorted <- c()\n",
    "for (i in 1:length(levels(monos.markers1$cluster))){\n",
    "    monos.markers1_level <- filter(monos.markers1, cluster == levels(monos.markers1$cluster)[i])\n",
    "    monos.markers1_level <- monos.markers1_level[order(-monos.markers1_level$avg_log2FC), ]\n",
    "    monos.markers1_level <- monos.markers1_level[1:5, ]\n",
    "    monos.markers1_level <- monos.markers1_level[!is.na(monos.markers1_level$avg_log2FC), ]\n",
    "    monos.markers1_sorted <- rbind(monos.markers1_sorted, monos.markers1_level)\n",
    "    }\n",
    "monos.markers1_sorted_top5 <- monos.markers1_sorted"
   ]
  },
  {
   "cell_type": "code",
   "execution_count": null,
   "id": "22635a6a-a2cd-466d-b942-4925011be1f5",
   "metadata": {},
   "outputs": [],
   "source": [
    "#plot top5 markers per cluster in heatmap\n",
    "DoHeatmap(cluster.averages_monos, features = monos.markers1_sorted_top5$gene)+ theme(text = element_text(size = 20, face = \"bold\"))\n",
    "#plot the nfeatures per cell in VlnPlot (helpuf for sorting out low quality cells)\n",
    "VlnPlot(monos, features = 'nFeature_RNA', pt.size = 0.01)"
   ]
  },
  {
   "cell_type": "markdown",
   "id": "e1fd3212-6fd2-49b8-ac2e-6bd27da06820",
   "metadata": {},
   "source": [
    "## Subset only the Monos, DC and B/DC mix"
   ]
  },
  {
   "cell_type": "code",
   "execution_count": null,
   "id": "b3959d2f-6024-44e4-a3e7-7356092fcd98",
   "metadata": {},
   "outputs": [],
   "source": [
    "monos@meta.data$old_clusters <- monos@meta.data$seurat_clusters\n",
    "monos <- subset(monos, idents = c(3,4,9,12,13,15,16))\n",
    "monos"
   ]
  },
  {
   "cell_type": "code",
   "execution_count": null,
   "id": "a2394ab3-93a5-4707-ba7d-6a464ab8f2d6",
   "metadata": {},
   "outputs": [],
   "source": [
    "monos <- FindVariableFeatures(monos, selection.method = \"vst\", nfeatures = 2000)\n",
    "length(x = VariableFeatures(object = monos))"
   ]
  },
  {
   "cell_type": "code",
   "execution_count": null,
   "id": "e25b3b3c-f9a2-4a3c-b629-e7c2bcdcec99",
   "metadata": {},
   "outputs": [],
   "source": [
    "monos <- ScaleData(monos, features = VariableFeatures(object = monos), vars.to.regress = c(\"nCount_RNA\", \"percent.mito\"))\n",
    "monos <- RunPCA(monos, features = VariableFeatures(object = monos))"
   ]
  },
  {
   "cell_type": "code",
   "execution_count": null,
   "id": "c3c5d14a-afcf-4142-9c94-61e8de84787f",
   "metadata": {},
   "outputs": [],
   "source": [
    "# ProjectDim scores each feature in the dataset (including features not included in the PCA) based on their correlation \n",
    "# with the calculated components. Though we don't use this further here, it can be used to identify markers that \n",
    "# are strongly correlated with cellular heterogeneity, but may not have passed through variable feature selection. \n",
    "# The results of the projected PCA can be explored by setting `projected = TRUE`in the functions above\n",
    "monos <- ProjectDim(object = monos)"
   ]
  },
  {
   "cell_type": "code",
   "execution_count": null,
   "id": "80d2614c-3b1b-4be6-aaef-7cc4e4f0aac0",
   "metadata": {},
   "outputs": [],
   "source": [
    "ElbowPlot(object = monos, ndims = 50)"
   ]
  },
  {
   "cell_type": "code",
   "execution_count": null,
   "id": "e1eec90d-bfa6-4a37-9b4a-ab4a4d6ed13f",
   "metadata": {
    "tags": []
   },
   "outputs": [],
   "source": [
    "for (i in 1:25){\n",
    "    print(DimHeatmap(object = monos, dims = i, cells = 500, balanced = TRUE))\n",
    "}"
   ]
  },
  {
   "cell_type": "markdown",
   "id": "8d97aa31-0d3c-44ed-8e28-98e9f30124c9",
   "metadata": {},
   "source": [
    "## Cluster the cells"
   ]
  },
  {
   "cell_type": "code",
   "execution_count": null,
   "id": "ba98075b-9d9f-4ed1-89d4-21e7c0ca0f37",
   "metadata": {},
   "outputs": [],
   "source": [
    "monos <- FindNeighbors(object = monos, dims = 1:8)"
   ]
  },
  {
   "cell_type": "code",
   "execution_count": null,
   "id": "8dcb6813-772a-4ea3-ab15-3f2b482ea2b6",
   "metadata": {},
   "outputs": [],
   "source": [
    "monos <- FindClusters(object = monos, resolution = 0.5)"
   ]
  },
  {
   "cell_type": "markdown",
   "id": "3e3e848d-9dd0-4a37-87d4-d2a1d906070d",
   "metadata": {},
   "source": [
    "## Run UMAP after reclustering"
   ]
  },
  {
   "cell_type": "code",
   "execution_count": null,
   "id": "90516aa6-089c-4106-aa0b-dcfa75f8fadd",
   "metadata": {
    "tags": []
   },
   "outputs": [],
   "source": [
    "monos <- RunUMAP(monos, dims = 1:8)"
   ]
  },
  {
   "cell_type": "code",
   "execution_count": null,
   "id": "583cfc10-3d8d-407d-9e34-aa277dac4dc9",
   "metadata": {
    "tags": []
   },
   "outputs": [],
   "source": [
    "DimPlot(monos, reduction = 'umap', label = TRUE, label.size = 8)\n",
    "DimPlot(monos, reduction = 'umap', label = TRUE, group.by = 'sample')\n",
    "VlnPlot(monos, features = 'nFeature_RNA', pt.size = 0.01)"
   ]
  },
  {
   "cell_type": "markdown",
   "id": "283f2b71-ad12-429e-ab6a-31e5bc038511",
   "metadata": {},
   "source": [
    "## Cluster markers (second run)"
   ]
  },
  {
   "cell_type": "code",
   "execution_count": null,
   "id": "a376ea1c-9c12-4ea8-a2b3-d638ffa6cd1e",
   "metadata": {},
   "outputs": [],
   "source": [
    "DefaultAssay(monos) <- 'RNA'"
   ]
  },
  {
   "cell_type": "code",
   "execution_count": null,
   "id": "60919ad1-2eb6-47ce-85c2-404c86232690",
   "metadata": {
    "tags": []
   },
   "outputs": [],
   "source": [
    "featuresmonos <- rownames(monos)\n",
    "monos.markers1 <- FindAllMarkers(object = monos, only.pos = TRUE, min.pct = 0.25, logfc.threshold = 0.25, features = featuresmonos)"
   ]
  },
  {
   "cell_type": "code",
   "execution_count": null,
   "id": "ab8a44c1-72af-436d-9e53-50977c6b6103",
   "metadata": {
    "tags": []
   },
   "outputs": [],
   "source": [
    "#sort top 30 first markers per cluster\n",
    "monos.markers1_sorted <- c()\n",
    "for (i in 1:length(levels(monos.markers1$cluster))){\n",
    "    monos.markers1_level <- filter(monos.markers1, cluster == levels(monos.markers1$cluster)[i])\n",
    "    monos.markers1_level <- monos.markers1_level[order(-monos.markers1_level$avg_log2FC), ]\n",
    "    monos.markers1_level <- monos.markers1_level[1:30, ]\n",
    "    monos.markers1_level <- monos.markers1_level[!is.na(monos.markers1_level$avg_log2FC), ]\n",
    "    monos.markers1_sorted <- rbind(monos.markers1_sorted, monos.markers1_level)\n",
    "    }\n",
    "monos.markers1_sorted_top30 <- monos.markers1_sorted\n",
    "write.csv(monos.markers1_sorted_top30, file = './monos_top30_second.csv')"
   ]
  },
  {
   "cell_type": "code",
   "execution_count": null,
   "id": "c775cd8e-6ff9-4cbf-934e-5b7f46d0180e",
   "metadata": {
    "tags": []
   },
   "outputs": [],
   "source": [
    "#compute the average expression for heatmaps\n",
    "cluster.averages_monos <- AverageExpression(monos, assay = \"RNA\", return.seurat = TRUE) # , verbose = FALSE)"
   ]
  },
  {
   "cell_type": "code",
   "execution_count": null,
   "id": "8c0c5421-2d49-4d57-97bc-394d78090dae",
   "metadata": {
    "tags": []
   },
   "outputs": [],
   "source": [
    "#sort top5 first markers per cluster\n",
    "monos.markers1_sorted <- c()\n",
    "for (i in 1:length(levels(monos.markers1$cluster))){\n",
    "    monos.markers1_level <- filter(monos.markers1, cluster == levels(monos.markers1$cluster)[i])\n",
    "    monos.markers1_level <- monos.markers1_level[order(-monos.markers1_level$avg_log2FC), ]\n",
    "    monos.markers1_level <- monos.markers1_level[1:5, ]\n",
    "    monos.markers1_level <- monos.markers1_level[!is.na(monos.markers1_level$avg_log2FC), ]\n",
    "    monos.markers1_sorted <- rbind(monos.markers1_sorted, monos.markers1_level)\n",
    "    }\n",
    "monos.markers1_sorted_top5 <- monos.markers1_sorted"
   ]
  },
  {
   "cell_type": "code",
   "execution_count": null,
   "id": "1e4abaf6-f01e-4618-bc5e-72d9f0d702b3",
   "metadata": {},
   "outputs": [],
   "source": [
    "#plot top5 markers per cluster in heatmap\n",
    "DoHeatmap(cluster.averages_monos, features = monos.markers1_sorted_top5$gene)+ theme(text = element_text(size = 20, face = \"bold\"))\n",
    "#plot the nfeatures per cell in VlnPlot (helpuf for sorting out low quality cells)\n",
    "VlnPlot(monos, features = 'nFeature_RNA', pt.size = 0.01)"
   ]
  },
  {
   "cell_type": "markdown",
   "id": "b7d690e2-4f7b-4b4c-92b7-418d81caca3b",
   "metadata": {},
   "source": [
    "## Remove doublets, perform integration due to detected batch effect"
   ]
  },
  {
   "cell_type": "code",
   "execution_count": null,
   "id": "5f16b609-3e3a-4e06-89ce-00e1bcd8c7cc",
   "metadata": {},
   "outputs": [],
   "source": [
    "#remove cluster 4, 5, 12, 8, 9\n",
    "monos <- subset(monos, idents = c(4,5,12,8,9), invert = TRUE)\n",
    "monos"
   ]
  },
  {
   "cell_type": "code",
   "execution_count": null,
   "id": "2443b4c7-4a3b-4153-886a-7e5e3f547df6",
   "metadata": {
    "tags": []
   },
   "outputs": [],
   "source": [
    "monos.list <- SplitObject(monos, split.by = \"sample.effect\")\n",
    "monos.list"
   ]
  },
  {
   "cell_type": "code",
   "execution_count": null,
   "id": "d1bb2a05-5dd6-4f53-a5df-29a5cb1f4723",
   "metadata": {},
   "outputs": [],
   "source": [
    "monos.list <- lapply(X = monos.list, FUN = function(x) {\n",
    "    x <- NormalizeData(x)\n",
    "    x <- FindVariableFeatures(x, selection.method = \"vst\", nfeatures = 5000)\n",
    "})\n",
    "\n",
    "for (i in 1:length(monos.list)){\n",
    "     VariableFeatures(monos.list[[i]])\n",
    "}"
   ]
  },
  {
   "cell_type": "code",
   "execution_count": null,
   "id": "edcd5d51-6340-4401-87bf-70c375c47bda",
   "metadata": {},
   "outputs": [],
   "source": [
    "features <- SelectIntegrationFeatures(object.list = monos.list, nfeatures = 5000)"
   ]
  },
  {
   "cell_type": "code",
   "execution_count": null,
   "id": "0d0116e5-540e-4a41-bbf1-ca91b4a0b43a",
   "metadata": {},
   "outputs": [],
   "source": [
    "monos.list <- lapply(X = monos.list, FUN = function(x) {\n",
    "    x <- ScaleData(x, features = features, verbose = FALSE)\n",
    "    x <- RunPCA(x, features = features, verbose = FALSE)\n",
    "})"
   ]
  },
  {
   "cell_type": "code",
   "execution_count": null,
   "id": "1da8f2cc-8f75-48dd-ad22-3b19a717a9fc",
   "metadata": {
    "tags": []
   },
   "outputs": [],
   "source": [
    "monos.anchors <- FindIntegrationAnchors(object.list = monos.list, anchor.features = features, reduction = \"rpca\")"
   ]
  },
  {
   "cell_type": "code",
   "execution_count": null,
   "id": "9415998e-418a-4345-baf9-f08fce4fe8c7",
   "metadata": {
    "tags": []
   },
   "outputs": [],
   "source": [
    "monos.integrated <- IntegrateData(anchorset = monos.anchors, k.weight = 50)"
   ]
  },
  {
   "cell_type": "markdown",
   "id": "3cf58d27-4b31-42e9-a427-59ebb51d47da",
   "metadata": {},
   "source": [
    "## working with the integrated file"
   ]
  },
  {
   "cell_type": "code",
   "execution_count": null,
   "id": "a3fd400c-89ba-4e64-8a3a-d09051b56fad",
   "metadata": {},
   "outputs": [],
   "source": [
    "DefaultAssay(monos.integrated) <- 'integrated'"
   ]
  },
  {
   "cell_type": "code",
   "execution_count": null,
   "id": "13e52dd6-395b-49d5-8439-aa21b8858f3a",
   "metadata": {},
   "outputs": [],
   "source": [
    "monos.integrated <- FindVariableFeatures(monos.integrated, selection.method = \"vst\", nfeatures = 1500)"
   ]
  },
  {
   "cell_type": "code",
   "execution_count": null,
   "id": "80074684-bc69-4d6c-868b-c9612cee4117",
   "metadata": {
    "tags": []
   },
   "outputs": [],
   "source": [
    "monos.integrated <- ScaleData(monos.integrated, features = VariableFeatures(object = monos.integrated), vars.to.regress = c(\"nCount_RNA\", \"percent.mito\"))\n",
    "monos.integrated <- RunPCA(monos.integrated, features = VariableFeatures(object = monos.integrated))"
   ]
  },
  {
   "cell_type": "code",
   "execution_count": null,
   "id": "58691c32-e2c6-4fb1-b5cd-f249438a6a23",
   "metadata": {},
   "outputs": [],
   "source": [
    "ElbowPlot(object = monos.integrated, ndims = 50)"
   ]
  },
  {
   "cell_type": "code",
   "execution_count": null,
   "id": "b860b3d0-eaf9-43cd-a098-761a3fa71566",
   "metadata": {
    "tags": []
   },
   "outputs": [],
   "source": [
    "for (i in 1:25){\n",
    "    print(DimHeatmap(object = monos.integrated, dims = i, cells = 500, balanced = TRUE))\n",
    "}"
   ]
  },
  {
   "cell_type": "code",
   "execution_count": null,
   "id": "38ec11b6-9f05-4444-a60a-a1c8dc14250b",
   "metadata": {
    "tags": []
   },
   "outputs": [],
   "source": [
    "monos.integrated <- FindNeighbors(object = monos.integrated, dims = 1:12)"
   ]
  },
  {
   "cell_type": "code",
   "execution_count": null,
   "id": "4f405b4f-ebb8-46b7-b28f-67b27ebfa0f1",
   "metadata": {},
   "outputs": [],
   "source": [
    "monos.integrated <- FindClusters(object = monos.integrated, resolution = 0.4)"
   ]
  },
  {
   "cell_type": "code",
   "execution_count": null,
   "id": "6089a9ca-9d3b-4e64-b3aa-f8ac8c0be5ad",
   "metadata": {
    "tags": []
   },
   "outputs": [],
   "source": [
    "monos.integrated <- RunUMAP(monos.integrated, dims = 1:12)"
   ]
  },
  {
   "cell_type": "code",
   "execution_count": null,
   "id": "01925e9b-dba7-42cd-9df3-911d4fae86bd",
   "metadata": {
    "tags": []
   },
   "outputs": [],
   "source": [
    "DimPlot(monos.integrated, reduction = 'umap', label = TRUE, label.size = 8)\n",
    "DimPlot(monos.integrated, reduction = 'umap', label = TRUE, group.by = 'sample')"
   ]
  },
  {
   "cell_type": "code",
   "execution_count": null,
   "id": "d19c8e45-df05-4442-96fa-f310f807e055",
   "metadata": {
    "tags": []
   },
   "outputs": [],
   "source": [
    "VlnPlot(monos.integrated, features = 'nFeature_RNA', pt.size = 0.01)"
   ]
  },
  {
   "cell_type": "markdown",
   "id": "b857f7f0-356f-4257-8818-7f56808c8133",
   "metadata": {},
   "source": [
    "## Cluster markers of the integrated file"
   ]
  },
  {
   "cell_type": "code",
   "execution_count": null,
   "id": "ffa79eec-630d-4c75-abb1-1bab6da5b9f9",
   "metadata": {},
   "outputs": [],
   "source": [
    "DefaultAssay(monos.integrated) <- 'RNA'"
   ]
  },
  {
   "cell_type": "code",
   "execution_count": null,
   "id": "9c987b52-9f18-4286-9dc3-2c3abd3565df",
   "metadata": {
    "tags": []
   },
   "outputs": [],
   "source": [
    "monos.integrated.markers1 <- FindAllMarkers(object = monos.integrated, only.pos = TRUE, min.pct = 0.25, logfc.threshold = 0.25, features = rownames(monos.integrated))"
   ]
  },
  {
   "cell_type": "code",
   "execution_count": null,
   "id": "3f2248b2-e2f5-4ae6-bcfa-06f206c8b146",
   "metadata": {
    "tags": []
   },
   "outputs": [],
   "source": [
    "#sort markers\n",
    "monos.integrated.markers1_sorted <- c()\n",
    "for (i in 1:length(levels(monos.integrated.markers1$cluster))){\n",
    "    monos.integrated.markers1_level <- filter(monos.integrated.markers1, cluster == levels(monos.integrated.markers1$cluster)[i])\n",
    "    monos.integrated.markers1_level <- monos.integrated.markers1_level[order(-monos.integrated.markers1_level$avg_log2FC), ]\n",
    "    monos.integrated.markers1_level <- monos.integrated.markers1_level[1:30, ]\n",
    "    monos.integrated.markers1_level <- monos.integrated.markers1_level[!is.na(monos.integrated.markers1_level$avg_log2FC), ]\n",
    "    monos.integrated.markers1_sorted <- rbind(monos.integrated.markers1_sorted, monos.integrated.markers1_level)\n",
    "    }\n",
    "monos.integrated.markers1_sorted_top30 <- monos.integrated.markers1_sorted\n",
    "monos.integrated.markers1_sorted_top30\n",
    "write.csv(monos.integrated.markers1_sorted_top30, file = './monos.integrated_top30.csv')"
   ]
  },
  {
   "cell_type": "code",
   "execution_count": null,
   "id": "1eaf70f0-9ea1-4708-80d2-54f9d552f52d",
   "metadata": {
    "tags": []
   },
   "outputs": [],
   "source": [
    "cluster.averages_monos.integrated <- AverageExpression(monos.integrated, assay = \"RNA\", return.seurat = TRUE) # , verbose = FALSE)"
   ]
  },
  {
   "cell_type": "code",
   "execution_count": null,
   "id": "ea2faf9c-dabe-4e5d-a653-18c65f244e73",
   "metadata": {
    "tags": []
   },
   "outputs": [],
   "source": [
    "monos.integrated.markers1_sorted <- c()\n",
    "for (i in 1:length(levels(monos.integrated.markers1$cluster))){\n",
    "    monos.integrated.markers1_level <- filter(monos.integrated.markers1, cluster == levels(monos.integrated.markers1$cluster)[i])\n",
    "    monos.integrated.markers1_level <- monos.integrated.markers1_level[order(-monos.integrated.markers1_level$avg_log2FC), ]\n",
    "    monos.integrated.markers1_level <- monos.integrated.markers1_level[1:5, ]\n",
    "    monos.integrated.markers1_level <- monos.integrated.markers1_level[!is.na(monos.integrated.markers1_level$avg_log2FC), ]\n",
    "    monos.integrated.markers1_sorted <- rbind(monos.integrated.markers1_sorted, monos.integrated.markers1_level)\n",
    "    }\n",
    "monos.integrated.markers1_sorted_top5 <- monos.integrated.markers1_sorted\n",
    "monos.integrated.markers1_sorted_top5"
   ]
  },
  {
   "cell_type": "code",
   "execution_count": null,
   "id": "4a5445a0-e550-4b8a-b3ab-4292075ca04b",
   "metadata": {},
   "outputs": [],
   "source": [
    "DoHeatmap(cluster.averages_monos.integrated, features = monos.integrated.markers1_sorted_top5$gene)+ theme(text = element_text(size = 20, face = \"bold\"))"
   ]
  },
  {
   "cell_type": "markdown",
   "id": "035a4c57-e1bb-4c38-bceb-44fb83b124ca",
   "metadata": {},
   "source": [
    "## Rename clusters, find markers and plot"
   ]
  },
  {
   "cell_type": "code",
   "execution_count": null,
   "id": "95d58289-025d-455a-a3c2-399ac79f6ab0",
   "metadata": {},
   "outputs": [],
   "source": [
    "phagocytes <- monos.integrated"
   ]
  },
  {
   "cell_type": "code",
   "execution_count": null,
   "id": "4b1af0aa-4f9c-4bc1-9220-606f75b80da3",
   "metadata": {},
   "outputs": [],
   "source": [
    "# create md file \n",
    "md  <- phagocytes@meta.data[,c(\"sample\", \"twin_pair\", \"diagnosis\")] %>% unique\n",
    "# define features\n",
    "markers.remove <- grep(pattern = \"^TRAV|^TRBV|^TRGV|^TRDV|^RPL|^RPS|^MT-|^IGKV|^IGLV|^IGHV|^IGH|^IGKC\", x = rownames(phagocytes), value = TRUE)\n",
    "features <- rownames(phagocytes)[!(rownames(phagocytes) %in% markers.remove)]\n",
    "markers_ab  <- rownames(phagocytes@assays$Ab)\n",
    "\n",
    "# rename the idents\n",
    "phagocytes  <- RenameIdents(phagocytes, \"0\" = \"Non-classical monocytes\", \"9\" = \"Non-classical monocytes\",\n",
    "        \"5\" = \"Intermediate monocytes\", \"6\" = \"Intermediate monocytes\", \"1\" = \"Classical monocytes\", \"4\" = \"Classical monocytes\", \n",
    "                \"2\" = \"Classical monocytes\", \"3\" = \"Dendritic cells\", \"8\" = \"Plasmacytoid dendritic cells\", \"7\" = \"Megakaryocytes\")\n"
   ]
  },
  {
   "cell_type": "code",
   "execution_count": null,
   "id": "2f2a8a73-a587-4a34-a060-4677dff41781",
   "metadata": {},
   "outputs": [],
   "source": [
    "#find markers\n",
    "phagocyte.markers <- FindAllMarkers(phagocytes, only.pos = TRUE, min.pct = 0.25, logfc.threshold = 0.25)\n",
    "top_phagocyte_markers  <- phagocyte.markers %>%\n",
    "    group_by(cluster) %>%\n",
    "    slice_max(n = 10, order_by = avg_log2FC)\n",
    "\n",
    "selected_phagocyte_markers  <- c(\"FCGR3A\", \"LY6E\", \"S100A8\", \"VCAN\", \"CD14\", \"FCER1A\", \"HLA-DQA1\", \"CLEC10A\", \"CLEC9A\", \"IRF8\", \"GZMB\", \"PPBP\", \"GNG11\")    \n",
    "\n",
    "#create dotplot\n",
    "dotplot_phagocytes  <- DotPlot(phagocytes, features = selected_phagocyte_markers, cols = c(\"white\", \"#557F7A\"), cluster.idents = T) + RotatedAxis()\n",
    "dotplot_phagocytes\n",
    "ggsave(dotplot_phagocytes, file = \"output/dotplot_phagocytes_signature_genes.pdf\", height = 3, width = 8)\n",
    "\n",
    "cols_phagocytes  <- c(\"Classical monocytes\" = \"#557F7A\", \"Intermediate monocytes\" = \"#7AA591\", \"Non-classical monocytes\" = \"#CBD49C\", \"Dendritic cells\" = \"#FFD258\", \"Plasmacytoid dendritic cells\" = \"grey\", \"Megakaryocytes\" = \"#FEEDC3\", \"CD14dim\" = \"#CC242A\")\n",
    "\n",
    "#create umap\n",
    "umap_clust  <- DimPlot(phagocytes, reduction = 'umap', label = FALSE, pt.size = 1, cols = cols_phagocytes) + theme(legend.position = \"none\")\n",
    "ggsave(umap_clust, file = \"output/umap_clust.png\")\n",
    "phagocytes@meta.data$cell.annotation <- Idents(phagocytes) "
   ]
  },
  {
   "cell_type": "markdown",
   "id": "5a585ac5-ea32-48a1-9a99-35c0d36520d7",
   "metadata": {},
   "source": [
    "## subclustering of classical monocytes based on epitope expression to obtain CD14 dim population\n",
    "code based on: https://broadinstitute.github.io/2020_scWorkshop/cite-seq.html#add-the-protein-expression-levels-to-the-seurat-object\n"
   ]
  },
  {
   "cell_type": "code",
   "execution_count": null,
   "id": "c24799f8-ec10-4b9d-8a77-c921e099e238",
   "metadata": {},
   "outputs": [],
   "source": [
    "# select classical monocyte subcluster\n",
    "DimPlot(phagocytes, reduction = 'umap', label = TRUE, pt.size = 1, group.by = \"integrated_snn_res.0.8\")\n",
    "Idents(phagocytes)  <- phagocytes@meta.data$integrated_snn_res.0.8\n",
    "\n",
    "cl_mono  <- subset(phagocytes, idents = \"7\")\n",
    "\n",
    "# cluster based on Ab expression\n",
    "DefaultAssay(cl_mono) <- \"Ab\"\n",
    "cl_mono <- ScaleData(cl_mono)\n",
    "cl_mono <- RunPCA(cl_mono, features = rownames(cl_mono), reduction.name = \"pca_Ab\", reduction.key = \"pca_Ab_\", verbose = FALSE)\n",
    "\n",
    "Ab.data <- GetAssayData(cl_mono, slot = \"data\")\n",
    "Ab.dist <- dist(t(Ab.data))\n",
    "\n",
    "cl_mono[[\"tsne_Ab\"]] <- RunTSNE(Ab.dist, assay = \"Ab\", reduction.key = \"AbTSNE_\")\n",
    "cl_mono[[\"Ab_snn\"]] <- FindNeighbors(Ab.dist)$snn\n",
    "tsne_feat_cl_mono  <- FeaturePlot(cl_mono, reduction = 'tsne_Ab', label = TRUE, pt.size = 1, features = markers_ab[c(3, 6, 8, 11, 14, 15, 16)])\n",
    "ggsave(tsne_feat_cl_mono, file=\"output/tSNE_overlay_cl_monos.png\")"
   ]
  },
  {
   "cell_type": "code",
   "execution_count": null,
   "id": "35cb8f08-e33d-4cde-9afe-33b53f195718",
   "metadata": {},
   "outputs": [],
   "source": [
    "cl_mono <- FindClusters(cl_mono, resolution = 0.3, graph.name = \"Ab_snn\")\n",
    "\n",
    "tsne_cl_mono  <- DimPlot(cl_mono, reduction = 'tsne_Ab', label = TRUE, pt.size = 1)\n",
    "ggsave(tsne_cl_mono, file=\"output/tsne_cluster_cl_monos.png\")\n",
    "\n",
    "cl_mono  <- RenameIdents(cl_mono, \"2\" = \"CD14dim\", \"4\" = \"CD14dim\")"
   ]
  },
  {
   "cell_type": "code",
   "execution_count": null,
   "id": "2c7af00b-46bc-4f17-ad5b-a9e3744a3348",
   "metadata": {},
   "outputs": [],
   "source": [
    "# project cd14dim cluster on original umap\n",
    "umap_mapping  <- DimPlot(phagocytes, reduction = 'umap', label = FALSE, pt.size = 1, cols = cols_phagocytes, group.by = \"cell.annotation\") + \n",
    "    theme(legend.position = \"none\") + \n",
    "      geom_density2d(data= \n",
    "      data.frame(Embeddings(subset(cl_mono, idents = \"CD14dim\")[[\"umap\"]])), \n",
    "      aes(x = UMAP_1, y = UMAP_2), col=\"red\", bins = 8)\n",
    "\n",
    "umap_mapping   \n",
    "ggsave(umap_mapping, file =\"output/umap_mapping_selected.png\")"
   ]
  },
  {
   "cell_type": "code",
   "execution_count": null,
   "id": "dbc9924d-14e2-48cb-851e-3f5c21348aac",
   "metadata": {},
   "outputs": [],
   "source": [
    "# add CD14dim to clustering annotation\n",
    "phagocytes@meta.data$cell.annotation.CD14dim <- as.character(phagocytes@meta.data$cell.annotation)\n",
    "\n",
    "CD14dim_names  <- subset(cl_mono, idents = \"CD14dim\") %>% colnames\n",
    "phagocytes@meta.data[rownames(phagocytes@meta.data) %in% CD14dim_names,\"cell.annotation.CD14dim\"]  <- \"CD14dim\"\n",
    "phagocytes@meta.data$cell.annotation.CD14dim  <- factor(phagocytes@meta.data$cell.annotation.CD14dim)"
   ]
  },
  {
   "cell_type": "code",
   "execution_count": null,
   "id": "459091cd-d117-4fc2-9009-13f0ddf91fe3",
   "metadata": {},
   "outputs": [],
   "source": [
    "# plot heatmap for surface markers\n",
    "Ab_data_phagocytes  <- GetAssayData(phagocytes, slot = \"data\", assay = \"Ab\") %>% \n",
    "    data.frame(check.names = F) %>% \n",
    "    t() %>% data.frame %>% cbind(phagocytes@meta.data$cell.annotation.CD14dim)\n",
    "colnames(Ab_data_phagocytes)[22]  <- \"cell.annotation.CD14dim\"\n",
    "\n",
    "heat  <- Ab_data_phagocytes %>% group_by(cell.annotation.CD14dim) %>% summarise_all(mean)\n",
    "\n",
    "heat_m  <- data.matrix(heat[-1])\n",
    "rownames(heat_m)  <- heat$cell.annotation.CD14dim\n",
    "colnames(heat_m)  <- str_replace(colnames(heat_m), \".Ab\", \"\")\n",
    "\n",
    "white.black <- colorRampPalette(c(\"white\", \"black\"))(n = 9)\n",
    "\n",
    "pheatmap(mat = heat_m[,1:18], \n",
    "         scale= \"none\",\n",
    "         color = white.black,\n",
    "        #  breaks = breaks,\n",
    "         cluster_rows=F,\n",
    "         cluster_cols=F,\n",
    "        #  annotation_row = annotation,\n",
    "        #  annotation_colors =  ann_col,\n",
    "         cellwidth = 10, cellheight = 10,\n",
    "         border_color = NA,\n",
    "         filename= \"output/phagocytes_heatmap_ab.pdf\"\n",
    "         )"
   ]
  },
  {
   "cell_type": "markdown",
   "id": "f39d4ac9-2054-4148-9248-4598b90f7e28",
   "metadata": {},
   "source": [
    "## Find Markers that differentiate selected node from other clusters"
   ]
  },
  {
   "cell_type": "code",
   "execution_count": null,
   "id": "70b75153-7ec3-4855-b1a8-af4ad08219e8",
   "metadata": {},
   "outputs": [],
   "source": [
    "Idents(phagocytes)  <- phagocytes@meta.data$cell.annotation.CD14dim\n",
    "DefaultAssay(phagocytes)  <- \"RNA\"\n",
    "\n",
    "phagocyte.markers <- phagocytes %>% subset(idents = c(\"CD14dim\", \"Classical monocytes\", \"Non-classical monocytes\", \"Intermediate monocytes\", \"Dendritic cells\")) %>% \n",
    "    FindAllMarkers(only.pos = FALSE, min.pct = 0.1, logfc.threshold = 0.25)\n",
    "\n",
    "top_phagocyte_markers  <- phagocyte.markers %>%\n",
    "    group_by(cluster) %>%\n",
    "    slice_max(n = 15, order_by = avg_log2FC)\n",
    "\n",
    "dotplot_phagocytes_selected  <- phagocytes %>% subset(idents = c(\"CD14dim\", \"Classical monocytes\", \"Non-classical monocytes\", \"Intermediate monocytes\", \"Dendritic cells\")) %>% \n",
    "    DotPlot(features = unique(top_phagocyte_markers$gene), cols = c(\"white\", \"#557F7A\"), cluster.idents = T) + RotatedAxis()\n",
    "ggsave(dotplot_phagocytes_selected, file = \"output/dotplot_phagocytes_differential_genes_CD14dim.pdf\", height = 2.5, width = 19)\n"
   ]
  },
  {
   "cell_type": "code",
   "execution_count": null,
   "id": "43f36745-f818-4793-8109-55608215df60",
   "metadata": {},
   "outputs": [],
   "source": [
    "# DEGs for all clusters\n",
    "diff_markers  <- function(data, cell_type){\n",
    "        diff  <- subset(data, subset = (twin_pair != \"none\" & cell.annotation.CD14dim == cell_type)) %>% \n",
    "                        FindMarkers(., test.use=\"LR\", latent.vars = \"twin_pair\", group.by = \"diagnosis\", ident.1 = \"MS\", ident.2 = \"Healthy\", logfc.threshold = 0, features = features) %>%\n",
    "                        mutate(cell.type = cell_type, gene = rownames(.))\n",
    "    }\n",
    "\n",
    "diff_markers_res  <- unique(Idents(phagocytes)) %>% map_dfr(~ diff_markers(data = phagocytes, cell_type = .))\n",
    "sig_markers  <- diff_markers_res %>% subset(p_val_adj <.05)\n",
    "\n",
    "write.csv(sig_markers, file = \"output/DEG_all_clusters.csv\")\n",
    "\n",
    "# plot volcanos per cluster\n",
    "plot_volcano  <- function(data, cell_type){\n",
    "    volcano <- ggplot(subset(data, cell.type == cell_type), aes(x = avg_log2FC, y = -log10(p_val_adj))) +        \n",
    "    geom_vline(xintercept = 0) +\n",
    "    geom_hline(yintercept = -log10(0.05), color =\"grey\", linetype =\"dashed\") +\n",
    "    geom_point(data = subset(data, cell.type == cell_type),\n",
    "                color = \"grey\", alpha = 0.5) +\n",
    "    geom_point(data = subset(data, cell.type == cell_type & avg_log2FC > 0 & p_val_adj < .05)[1:20,],\n",
    "                fill = \"#CC242A\", alpha = 1, shape=21, size= 2.5) +\n",
    "    geom_point(data = subset(data, cell.type == cell_type & avg_log2FC < 0 & p_val_adj < .05)[1:20,],\n",
    "                fill = \"#557F7A\", alpha = 1, shape=21, size= 2.5) +    \n",
    "    geom_text_repel(data=subset(data, cell.type == cell_type & p_val_adj < .05)[1:20,], aes(label = gene))+\n",
    "    theme_linedraw() + \n",
    "    theme(panel.grid = element_blank(), legend.position = \"none\") +\n",
    "    xlab(\"log2(average fold change)\") +\n",
    "    ylab(\"-log10(p-value)\") \n",
    "    volcano\n",
    "    ggsave(volcano, file=paste0(\"output/volcano_\", cell_type, \".pdf\"), height = 4, width = 5)\n",
    "    }\n",
    "\n",
    "unique(Idents(phagocytes)) %>% map(~ plot_volcano(data = diff_markers_res, cell_type = .))"
   ]
  },
  {
   "cell_type": "code",
   "execution_count": null,
   "id": "0a44227e-f2f0-4c17-b3a4-d4517259e829",
   "metadata": {},
   "outputs": [],
   "source": [
    "# GSEA for functional differences between twins\n",
    "LR_twins_meta  <- function(data, cell_type, features){\n",
    "    seurat_subset  <- subset(data, subset = (twin_pair != \"none\" & cell.annotation.CD14dim == cell_type))\n",
    "    model_data  <- seurat_subset[[c(features, \"diagnosis\", \"twin_pair\")]]\n",
    "    model_data$diagnosis  <- factor(model_data$diagnosis, levels = c(\"Healthy\", \"MS\"), labels = c(0, 1))\n",
    "    fmla  <- as.formula(object = paste(\"diagnosis ~\", features, \"+ twin_pair\"))\n",
    "    fmla2  <- as.formula(object = \"diagnosis ~ twin_pair\")\n",
    "    model1 <- glm(formula = fmla, data = model_data, family = \"binomial\")\n",
    "    model2 <- glm(formula = fmla2, data = model_data, family = \"binomial\")\n",
    "    lr_res  <- lrtest(model1, model2)\n",
    "    res  <- c(model1$coefficients, lr_res$Pr[2])\n",
    "}\n",
    "\n",
    "calculate_logFC  <- function(data, cell_type, features){\n",
    "    seurat_subset  <- subset(data, subset = (twin_pair != \"none\" & cell.annotation.CD14dim == cell_type))\n",
    "    feature_data  <- seurat_subset[[c(features, \"diagnosis\", \"twin_pair\")]]\n",
    "    means  <- feature_data %>% group_by(diagnosis) %>% summarize_at(features, mean)\n",
    "    fc  <- (subset(means, diagnosis == \"MS\")[,2] - subset(means, diagnosis == \"Healthy\")[,2])\n",
    "}\n",
    "\n",
    "reverselog_trans <- function(base = exp(1)) {\n",
    "    trans <- function(x) -log(x, base)\n",
    "    inv <- function(x) base^(-x)\n",
    "    trans_new(paste0(\"reverselog-\", format(base)), trans, inv, \n",
    "              log_breaks(base = base), \n",
    "              domain = c(1e-100, Inf))\n",
    "}"
   ]
  },
  {
   "cell_type": "markdown",
   "id": "7b49d725-9144-447f-abc2-bac1fbb0c7a9",
   "metadata": {},
   "source": [
    "CSF2RA signaling module\n",
    "geneset access via https://maayanlab.cloud/Harmonizome/gene_set/CSF2RA/Pathway+Commons+Protein-Protein+Interactions"
   ]
  },
  {
   "cell_type": "code",
   "execution_count": null,
   "id": "0356ad05-851e-42f6-8cdd-553a718cb309",
   "metadata": {},
   "outputs": [],
   "source": [
    "CSF2_genes  <- read.delim(\"CSF2_geneset.txt\", header = F)[,1]\n",
    "phagocytes <- AddModuleScore(\n",
    "  object = phagocytes,\n",
    "  features = list(CSF2_genes),\n",
    "  ctrl = 100,\n",
    "  name = 'CSF2_genes'\n",
    ")\n",
    "\n",
    "# heatmap CSF2 signalling\n",
    "seurat_sub  <- subset(phagocytes, subset = cell.annotation.CD14dim == \"CD14dim\")\n",
    "\n",
    "data_csf2  <- data.frame(CSF2_genes1 = seurat_sub[[\"CSF2_genes1\"]],twin = seurat_sub@meta.data$twin, sample = seurat_sub@meta.data$sample, \n",
    "        diagnosis = seurat_sub@meta.data$diagnosis, twin_pair = seurat_sub@meta.data$twin_pair)\n",
    "\n",
    "data_csf2_sub  <- subset(data_csf2, twin_pair != \"none\" & twin_pair != 4)\n",
    "\n",
    "heat  <- data_csf2_sub %>% group_by(sample) %>% summarise(mean(CSF2_genes1)) %>% merge(md) %>%\n",
    "    arrange(twin_pair, diagnosis)\n",
    "mat  <- matrix(data = (heat %>% pull(2)), ncol = (2), byrow = T, dimnames = list(paste(\"twin pair\", unique(heat$twin_pair))))\n",
    "\n",
    "pheatmap(mat = mat, \n",
    "          scale= \"none\",\n",
    "           color = colorRampPalette(c(\"white\", \"#557F7A\"))(n = 9),\n",
    "          cluster_rows=F,\n",
    "          cluster_cols=F,\n",
    "          cellwidth = 10, cellheight = 10,\n",
    "          border_color = NA,\n",
    "          filename= \"output/CSF2_signalling_heatmap_CD14_dim.pdf\"\n",
    "    )\n",
    "\n",
    "# heatmaps for individual genes involved in CSF2RA signaling\n",
    "seurat_sub  <- subset(phagocytes, subset = (twin_pair != \"none\" & cell.annotation.CD14dim == \"CD14dim\" & twin_pair !=4))\n",
    "sub_counts  <- GetAssayData(seurat_sub, slot = \"data\", assay = \"RNA\") %>% data.frame(check.names = F) %>% t() %>% \n",
    "            data.frame %>% cbind(seurat_sub[[c(\"sample\", \"diagnosis\", \"twin_pair\")]])\n",
    "\n",
    "data_csf2ra  <- data.frame(CSF2RA = sub_counts[,\"CSF2RA\"], sample = sub_counts$sample, \n",
    "        diagnosis = sub_counts$diagnosis, twin_pair = sub_counts$twin_pair)\n",
    "\n",
    "\n",
    "heat  <- data_csf2ra %>% group_by(sample) %>% summarise(mean(CSF2RA)) %>% merge(md) %>%\n",
    "    arrange(twin_pair, diagnosis)\n",
    "mat  <- matrix(data = (heat %>% pull(2)), ncol = (2), byrow = T, dimnames = list(paste(\"twin pair\", unique(heat$twin_pair))))\n",
    "\n",
    "\n",
    "pheatmap(mat = mat, \n",
    "          scale= \"none\",\n",
    "           color = white.black,\n",
    "          cluster_rows=F,\n",
    "          cluster_cols=F,\n",
    "          cellwidth = 10, cellheight = 10,\n",
    "          border_color = NA,\n",
    "          filename= \"output/CSF2RA_heatmap_CD14_dim.pdf\"\n",
    ")"
   ]
  },
  {
   "cell_type": "code",
   "execution_count": null,
   "id": "26f4675f-29ed-47d3-ab09-51bd91c7847c",
   "metadata": {},
   "outputs": [],
   "source": [
    "#Stat 5 signaling\n",
    "data_STAT5A  <- data.frame(STAT5A = sub_counts[,\"STAT5A\"], sample = sub_counts$sample, \n",
    "        diagnosis = sub_counts$diagnosis, twin_pair = sub_counts$twin_pair)\n",
    "\n",
    "heat  <- data_STAT5A %>% group_by(sample) %>% summarise(mean(STAT5A)) %>% merge(md) %>%\n",
    "    arrange(twin_pair, diagnosis)\n",
    "mat  <- matrix(data = (heat %>% pull(2)), ncol = (2), byrow = T, dimnames = list(paste(\"twin pair\", unique(heat$twin_pair))))\n",
    "\n",
    "pheatmap(mat = mat, \n",
    "          scale= \"none\",\n",
    "           color = white.black,\n",
    "          # breaks = breaks,\n",
    "          cluster_rows=F,\n",
    "          cluster_cols=F,\n",
    "          #  annotation_row = annotation,\n",
    "          #  annotation_colors =  ann_col,\n",
    "          cellwidth = 10, cellheight = 10,\n",
    "          border_color = NA,\n",
    "          filename= \"output/STAT5A_heatmap_CD14_dim.pdf\"\n",
    "    )\n",
    "\n",
    "data_STAT5B  <- data.frame(STAT5B = sub_counts[,\"JAK2\"], sample = sub_counts$sample, \n",
    "        diagnosis = sub_counts$diagnosis, twin_pair = sub_counts$twin_pair)\n",
    "\n",
    "\n",
    "heat  <- data_STAT5B %>% group_by(sample) %>% summarise(mean(STAT5B)) %>% merge(md) %>%\n",
    "    arrange(twin_pair, diagnosis)\n",
    "mat  <- matrix(data = (heat %>% pull(2)), ncol = (2), byrow = T, dimnames = list(paste(\"twin pair\", unique(heat$twin_pair))))\n",
    "\n",
    "\n",
    "pheatmap(mat = mat, \n",
    "          scale= \"none\",\n",
    "           color = white.black,\n",
    "          # breaks = breaks,\n",
    "          cluster_rows=F,\n",
    "          cluster_cols=F,\n",
    "          #  annotation_row = annotation,\n",
    "          #  annotation_colors =  ann_col,\n",
    "          cellwidth = 10, cellheight = 10,\n",
    "          border_color = NA,\n",
    "          filename= \"output/JAK2_heatmap_CD14_dim.pdf\"\n",
    "    )\n",
    "dev.off()"
   ]
  },
  {
   "cell_type": "markdown",
   "id": "9ee6c61d-7523-4a22-966d-e467096e5777",
   "metadata": {},
   "source": [
    "Type 1 IFN signalling\n",
    "gene set: https://www.gsea-msigdb.org/gsea/msigdb/geneset_page.jsp?geneSetName=REACTOME_INTERFERON_ALPHA_BETA_SIGNALING&keywords=type%201%20interferon\n"
   ]
  },
  {
   "cell_type": "code",
   "execution_count": null,
   "id": "51daa9d6-a5b9-439b-8bfe-044a224616b5",
   "metadata": {},
   "outputs": [],
   "source": [
    "IFN1_genes  <- read.delim(\"IFN1_geneset.txt\", header = F)[,1]\n",
    "\n",
    "phagocytes <- AddModuleScore(\n",
    "  object = phagocytes,\n",
    "  features = list(IFN1_genes),\n",
    "  ctrl = 100,\n",
    "  name = 'IFN1_genes'\n",
    ")\n",
    "\n",
    "LR_res_IFN1 <- unique(Idents(phagocytes)) %>% map_dfr(~ LR_twins_meta(data = phagocytes, cell_type = ., features = \"IFN1_genes1\")) %>% mutate(cell.type = unique(Idents(phagocytes)))\n",
    "colnames(LR_res_IFN1)[10]  <- \"p_val\"\n",
    "write.csv(LR_res_IFN1, file = \"output/IFN1_signature_stats.csv\")\n",
    "\n",
    "IFN1_violin  <- phagocytes %>% subset(subset = (twin_pair != \"none\" & cell.annotation.CD14dim %in% subset(LR_res_IFN1, p_val < 0.05)$cell.type[1:3])) %>% \n",
    "        VlnPlot(features = \"IFN1_genes1\", group.by = \"cell.annotation.CD14dim\", split.by = \"diagnosis\", cols = c(\"#557F7A\", \"#CC242A\"), pt.size = 0.01)\n",
    "IFN1_violin  <- delete_layers(IFN1_violin, \"GeomViolin\") + geom_violin(scale=\"area\", aes(fill=split), alpha=1, draw_quantiles = .5) + xlab(\"\") + ylab(\"Module score\") + ggtitle(\"Type 1 IFN signature\")\n",
    "\n",
    "ggsave(IFN1_violin, file = \"output/IFN1_signature_violin_test.pdf\", width = 5, height = 5)"
   ]
  },
  {
   "cell_type": "markdown",
   "id": "489b5359-fb3c-4ce8-8b91-d7af63e63e7d",
   "metadata": {},
   "source": [
    "compare genes involved in phagocytosis, antigen presentation and ROS production between clustersphagocytosis\n",
    "gene set from: https://www.gsea-msigdb.org/gsea/msigdb/cards/KEGG_FC_GAMMA_R_MEDIATED_PHAGOCYTOSIS\n"
   ]
  },
  {
   "cell_type": "code",
   "execution_count": null,
   "id": "9c824ab2-561b-4c76-a4ca-fea76ccc7f0e",
   "metadata": {},
   "outputs": [],
   "source": [
    "phago_genes  <- read.delim(\"Phagocytosis_geneset.txt\", header = F)[,1]\n",
    "\n",
    "phagocytes <- AddModuleScore(\n",
    "  object = phagocytes,\n",
    "  features = list(phago_genes),\n",
    "  ctrl = 100,\n",
    "  name = 'Phago_genes'\n",
    ")"
   ]
  },
  {
   "cell_type": "markdown",
   "id": "9725b01d-5659-4396-9143-cfb838273916",
   "metadata": {},
   "source": [
    "ROS gene set from: https://maayanlab.cloud/Harmonizome/gene_set/reactive+oxygen+species+metabolic+process/GO+Biological+Process+Annotations\n"
   ]
  },
  {
   "cell_type": "code",
   "execution_count": null,
   "id": "e01a7889-cad1-4005-950c-2874c6f03ee0",
   "metadata": {},
   "outputs": [],
   "source": [
    "ROS_genes  <- read.delim(\"ROS_geneset.txt\", header = F)[,1]\n",
    "\n",
    "phagocytes <- AddModuleScore(\n",
    "  object = phagocytes,\n",
    "  features = list(ROS_genes),\n",
    "  ctrl = 100,\n",
    "  name = 'ROS_genes'\n",
    ")"
   ]
  },
  {
   "cell_type": "markdown",
   "id": "271d5348-9e8f-4ae5-b0fb-82d8610f4052",
   "metadata": {
    "jp-MarkdownHeadingCollapsed": true,
    "tags": []
   },
   "source": [
    "antigen presentation gene set from: https://maayanlab.cloud/Harmonizome/gene_set/antigen+processing+and+presentation/KEGG+Pathways\n"
   ]
  },
  {
   "cell_type": "code",
   "execution_count": null,
   "id": "5e482183-1d81-419e-a77b-d0910afde6d0",
   "metadata": {},
   "outputs": [],
   "source": [
    "AP_genes  <- read.delim(\"ROS_geneset.txt\", header = F)[,1]\n",
    "\n",
    "phagocytes <- AddModuleScore(\n",
    "  object = phagocytes,\n",
    "  features = list(AP_genes),\n",
    "  ctrl = 100,\n",
    "  name = 'AP_genes'\n",
    ")"
   ]
  },
  {
   "cell_type": "code",
   "execution_count": null,
   "id": "cf73aff3-02f8-4653-93a3-c5805c488513",
   "metadata": {},
   "outputs": [],
   "source": [
    "# plot the module scores\n",
    "Phago_violin  <- phagocytes %>% subset(subset = (twin_pair != \"none\" & cell.annotation.CD14dim %in% c(\"Classical monocytes\", \"Non-classical monocytes\", \"Intermediate monocytes\", \"Dendritic cells\", \"CD14dim\"))) %>% \n",
    "        VlnPlot(features = \"Phago_genes1\", group.by = \"cell.annotation.CD14dim\", cols = cols_phagocytes)\n",
    "Phago_violin  <- delete_layers(Phago_violin, \"GeomViolin\") + geom_violin(scale=\"area\", aes(fill=ident), alpha=1, draw_quantiles = .5) + xlab(\"\") + ylab(\"Module score\") + ggtitle(\"Phagocytosis\")\n",
    "ggsave(Phago_violin, file = \"output/Phagocyte_signature_violin_clusters.pdf\", width = 5, height = 5)\n",
    "\n",
    "\n",
    "AP_violin  <- phagocytes %>% subset(subset = (twin_pair != \"none\" & cell.annotation.CD14dim %in% c(\"Classical monocytes\", \"Non-classical monocytes\", \"Intermediate monocytes\", \"Dendritic cells\", \"CD14dim\"))) %>% \n",
    "        VlnPlot(features = \"AP_genes1\", group.by = \"cell.annotation.CD14dim\", cols = cols_phagocytes)\n",
    "AP_violin  <- delete_layers(AP_violin, \"GeomViolin\") + geom_violin(scale=\"area\", aes(fill=ident), alpha=1, draw_quantiles = .5) + xlab(\"\") + ylab(\"Module score\") + ggtitle(\"Antigen Presentation\")\n",
    "ggsave(AP_violin, file = \"output/AP_signature_violin_clusters.pdf\", width = 5, height = 5)\n",
    "\n",
    "ROS_violin  <- phagocytes %>% subset(subset = (twin_pair != \"none\" & cell.annotation.CD14dim %in% c(\"Classical monocytes\", \"Non-classical monocytes\", \"Intermediate monocytes\", \"Dendritic cells\", \"CD14dim\"))) %>% \n",
    "        VlnPlot(features = \"ROS_genes1\", group.by = \"cell.annotation.CD14dim\", cols = cols_phagocytes)\n",
    "ROS_violin  <-  delete_layers(ROS_violin, \"GeomViolin\") + geom_violin(scale=\"area\", aes(fill=ident), alpha=1, draw_quantiles = .5) + xlab(\"\") + ylab(\"Module score\") + ggtitle(\"ROS\")\n",
    "ggsave(ROS_violin, file = \"output/ROS_signature_violin_clusters.pdf\", width = 5, height = 5)\n"
   ]
  }
 ],
 "metadata": {
  "kernelspec": {
   "display_name": "R version 4.0.3",
   "language": "R",
   "name": "ir403"
  },
  "language_info": {
   "codemirror_mode": "r",
   "file_extension": ".r",
   "mimetype": "text/x-r-source",
   "name": "R",
   "pygments_lexer": "r",
   "version": "4.0.3"
  }
 },
 "nbformat": 4,
 "nbformat_minor": 5
}
